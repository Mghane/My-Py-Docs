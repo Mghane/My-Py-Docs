{
  "nbformat": 4,
  "nbformat_minor": 0,
  "metadata": {
    "colab": {
      "name": "Lesson_2. Linear Classification.ipynb",
      "provenance": [],
      "collapsed_sections": [],
      "authorship_tag": "ABX9TyPfkDG9yF4bgj4joEaVsrZP",
      "include_colab_link": true
    },
    "kernelspec": {
      "name": "python3",
      "display_name": "Python 3"
    }
  },
  "cells": [
    {
      "cell_type": "markdown",
      "metadata": {
        "id": "view-in-github",
        "colab_type": "text"
      },
      "source": [
        "<a href=\"https://colab.research.google.com/github/Mghane/My-Py-Docs/blob/master/Lesson_2_Linear_Classification.ipynb\" target=\"_parent\"><img src=\"https://colab.research.google.com/assets/colab-badge.svg\" alt=\"Open In Colab\"/></a>"
      ]
    },
    {
      "cell_type": "code",
      "metadata": {
        "id": "8M_xehsNR3u1"
      },
      "source": [
        "# insallation\n",
        "\n",
        "%matplotlib inline\n",
        "%config InlineBackend.figure_format = 'retina'\n",
        "\n",
        "import numpy as np\n",
        "import matplotlib.pyplot as plt\n",
        "import tensorflow as tf"
      ],
      "execution_count": 13,
      "outputs": []
    },
    {
      "cell_type": "code",
      "metadata": {
        "id": "QNZjwh5CUdE-"
      },
      "source": [
        "import logging\n",
        "logger = tf.get_logger()\n",
        "logger.setLevel(logging.ERROR) ## again to prevent too many warning"
      ],
      "execution_count": 14,
      "outputs": []
    },
    {
      "cell_type": "code",
      "metadata": {
        "id": "dtw01ifXSIvk",
        "outputId": "fd8486d6-ed8a-4794-ef6c-c6f106761f47",
        "colab": {
          "base_uri": "https://localhost:8080/",
          "height": 35
        }
      },
      "source": [
        "tf.__version__"
      ],
      "execution_count": 2,
      "outputs": [
        {
          "output_type": "execute_result",
          "data": {
            "application/vnd.google.colaboratory.intrinsic+json": {
              "type": "string"
            },
            "text/plain": [
              "'2.3.0'"
            ]
          },
          "metadata": {
            "tags": []
          },
          "execution_count": 2
        }
      ]
    },
    {
      "cell_type": "code",
      "metadata": {
        "id": "4GZRXST6SODD"
      },
      "source": [
        "# load data\n",
        "from sklearn.datasets import load_breast_cancer"
      ],
      "execution_count": 3,
      "outputs": []
    },
    {
      "cell_type": "code",
      "metadata": {
        "id": "HSTHaSyaSYMS"
      },
      "source": [
        "df = load_breast_cancer()"
      ],
      "execution_count": 6,
      "outputs": []
    },
    {
      "cell_type": "code",
      "metadata": {
        "id": "5H9EmojDo0eL",
        "outputId": "59be19dc-e777-427c-80dc-dbdda8db173a",
        "colab": {
          "base_uri": "https://localhost:8080/",
          "height": 34
        }
      },
      "source": [
        "df.keys()"
      ],
      "execution_count": 19,
      "outputs": [
        {
          "output_type": "execute_result",
          "data": {
            "text/plain": [
              "dict_keys(['data', 'target', 'target_names', 'DESCR', 'feature_names', 'filename'])"
            ]
          },
          "metadata": {
            "tags": []
          },
          "execution_count": 19
        }
      ]
    },
    {
      "cell_type": "code",
      "metadata": {
        "id": "HK-T4uGESb9M",
        "outputId": "e8650cd2-3631-4123-894a-03d27c20a0d7",
        "colab": {
          "base_uri": "https://localhost:8080/",
          "height": 34
        }
      },
      "source": [
        "df.data.shape"
      ],
      "execution_count": 20,
      "outputs": [
        {
          "output_type": "execute_result",
          "data": {
            "text/plain": [
              "(569, 30)"
            ]
          },
          "metadata": {
            "tags": []
          },
          "execution_count": 20
        }
      ]
    },
    {
      "cell_type": "code",
      "metadata": {
        "id": "ZbjSk_kIsUdp"
      },
      "source": [
        "# scaling the data\n",
        "from sklearn.preprocessing import StandardScaler"
      ],
      "execution_count": 27,
      "outputs": []
    },
    {
      "cell_type": "code",
      "metadata": {
        "id": "hVqp2QYwsmUl"
      },
      "source": [
        "scaler = StandardScaler()\n",
        "scaled_df = scaler.fit_transform(df.data)"
      ],
      "execution_count": 30,
      "outputs": []
    },
    {
      "cell_type": "code",
      "metadata": {
        "id": "XjNeGXk0rPFP"
      },
      "source": [
        "from sklearn.model_selection import train_test_split"
      ],
      "execution_count": 21,
      "outputs": []
    },
    {
      "cell_type": "code",
      "metadata": {
        "id": "fEckQ76KraMz"
      },
      "source": [
        "X_train, X_test, y_train, y_test = train_test_split(scaled_df, df.target, test_size=0.33, random_state=42)"
      ],
      "execution_count": 31,
      "outputs": []
    },
    {
      "cell_type": "code",
      "metadata": {
        "id": "TzxtPgznraPg",
        "outputId": "c852b995-6585-4857-cf4a-a1162230ae02",
        "colab": {
          "base_uri": "https://localhost:8080/",
          "height": 34
        }
      },
      "source": [
        "len(X_test), len(X_train)"
      ],
      "execution_count": 32,
      "outputs": [
        {
          "output_type": "execute_result",
          "data": {
            "text/plain": [
              "(188, 381)"
            ]
          },
          "metadata": {
            "tags": []
          },
          "execution_count": 32
        }
      ]
    },
    {
      "cell_type": "code",
      "metadata": {
        "id": "a07TLcazu6Q8"
      },
      "source": [
        "D, N = X_train.shape"
      ],
      "execution_count": 34,
      "outputs": []
    },
    {
      "cell_type": "code",
      "metadata": {
        "id": "dwAPATEYygA6",
        "outputId": "ad8a5ea4-f1a3-4ab6-8c23-c354f3556f8e",
        "colab": {
          "base_uri": "https://localhost:8080/",
          "height": 34
        }
      },
      "source": [
        "D , N"
      ],
      "execution_count": 49,
      "outputs": [
        {
          "output_type": "execute_result",
          "data": {
            "text/plain": [
              "(381, 30)"
            ]
          },
          "metadata": {
            "tags": []
          },
          "execution_count": 49
        }
      ]
    },
    {
      "cell_type": "code",
      "metadata": {
        "id": "1JJdqVVAwICs"
      },
      "source": [
        "# to reset the dense layer numbers if there are any already\n",
        "from keras import backend as K\n",
        "K.clear_session()"
      ],
      "execution_count": 55,
      "outputs": []
    },
    {
      "cell_type": "code",
      "metadata": {
        "id": "1SPWNb43Scqu",
        "outputId": "a111aa97-177f-4274-ce80-d4531b7560f3",
        "colab": {
          "base_uri": "https://localhost:8080/",
          "height": 185
        }
      },
      "source": [
        "model = tf.keras.models.Sequential([\n",
        "        tf.keras.layers.Input(shape=(D,N)),\n",
        "        #tf.keras.layers.Dense(100, activation = 'sigmoid'),\n",
        "        tf.keras.layers.Dense(1, activation = 'sigmoid'),                              \n",
        "        ])\n",
        "model.summary()"
      ],
      "execution_count": 59,
      "outputs": [
        {
          "output_type": "stream",
          "text": [
            "Model: \"sequential_1\"\n",
            "_________________________________________________________________\n",
            "Layer (type)                 Output Shape              Param #   \n",
            "=================================================================\n",
            "dense_1 (Dense)              (None, 381, 1)            31        \n",
            "=================================================================\n",
            "Total params: 31\n",
            "Trainable params: 31\n",
            "Non-trainable params: 0\n",
            "_________________________________________________________________\n"
          ],
          "name": "stdout"
        }
      ]
    },
    {
      "cell_type": "code",
      "metadata": {
        "id": "1NmFvOfUvpYb"
      },
      "source": [
        "model.compile(optimizer='Adam', loss='binary_crossentropy', \n",
        "              metrics = 'accuracy')"
      ],
      "execution_count": 60,
      "outputs": []
    },
    {
      "cell_type": "code",
      "metadata": {
        "id": "6R7zAPJgvpnE",
        "outputId": "82f89e29-a4be-44d7-8db6-7925f8f9b365",
        "colab": {
          "base_uri": "https://localhost:8080/",
          "height": 1000
        }
      },
      "source": [
        "EPOCHS = 100\n",
        "history = model.fit(X_train,y_train, validation_data=(X_test, y_test), \n",
        "          epochs=EPOCHS)"
      ],
      "execution_count": 69,
      "outputs": [
        {
          "output_type": "stream",
          "text": [
            "Epoch 1/100\n",
            "12/12 [==============================] - 0s 5ms/step - loss: 0.0673 - accuracy: 0.9869 - val_loss: 0.0572 - val_accuracy: 0.9840\n",
            "Epoch 2/100\n",
            "12/12 [==============================] - 0s 3ms/step - loss: 0.0671 - accuracy: 0.9869 - val_loss: 0.0571 - val_accuracy: 0.9840\n",
            "Epoch 3/100\n",
            "12/12 [==============================] - 0s 3ms/step - loss: 0.0670 - accuracy: 0.9869 - val_loss: 0.0571 - val_accuracy: 0.9840\n",
            "Epoch 4/100\n",
            "12/12 [==============================] - 0s 3ms/step - loss: 0.0670 - accuracy: 0.9869 - val_loss: 0.0570 - val_accuracy: 0.9840\n",
            "Epoch 5/100\n",
            "12/12 [==============================] - 0s 3ms/step - loss: 0.0668 - accuracy: 0.9869 - val_loss: 0.0569 - val_accuracy: 0.9840\n",
            "Epoch 6/100\n",
            "12/12 [==============================] - 0s 2ms/step - loss: 0.0668 - accuracy: 0.9869 - val_loss: 0.0569 - val_accuracy: 0.9840\n",
            "Epoch 7/100\n",
            "12/12 [==============================] - 0s 3ms/step - loss: 0.0667 - accuracy: 0.9869 - val_loss: 0.0568 - val_accuracy: 0.9840\n",
            "Epoch 8/100\n",
            "12/12 [==============================] - 0s 3ms/step - loss: 0.0666 - accuracy: 0.9869 - val_loss: 0.0567 - val_accuracy: 0.9840\n",
            "Epoch 9/100\n",
            "12/12 [==============================] - 0s 3ms/step - loss: 0.0666 - accuracy: 0.9869 - val_loss: 0.0567 - val_accuracy: 0.9840\n",
            "Epoch 10/100\n",
            "12/12 [==============================] - 0s 3ms/step - loss: 0.0664 - accuracy: 0.9869 - val_loss: 0.0566 - val_accuracy: 0.9840\n",
            "Epoch 11/100\n",
            "12/12 [==============================] - 0s 3ms/step - loss: 0.0663 - accuracy: 0.9869 - val_loss: 0.0566 - val_accuracy: 0.9840\n",
            "Epoch 12/100\n",
            "12/12 [==============================] - 0s 3ms/step - loss: 0.0662 - accuracy: 0.9869 - val_loss: 0.0565 - val_accuracy: 0.9840\n",
            "Epoch 13/100\n",
            "12/12 [==============================] - 0s 3ms/step - loss: 0.0662 - accuracy: 0.9869 - val_loss: 0.0564 - val_accuracy: 0.9840\n",
            "Epoch 14/100\n",
            "12/12 [==============================] - 0s 3ms/step - loss: 0.0661 - accuracy: 0.9869 - val_loss: 0.0564 - val_accuracy: 0.9840\n",
            "Epoch 15/100\n",
            "12/12 [==============================] - 0s 3ms/step - loss: 0.0660 - accuracy: 0.9869 - val_loss: 0.0563 - val_accuracy: 0.9840\n",
            "Epoch 16/100\n",
            "12/12 [==============================] - 0s 3ms/step - loss: 0.0659 - accuracy: 0.9869 - val_loss: 0.0563 - val_accuracy: 0.9840\n",
            "Epoch 17/100\n",
            "12/12 [==============================] - 0s 3ms/step - loss: 0.0658 - accuracy: 0.9869 - val_loss: 0.0562 - val_accuracy: 0.9840\n",
            "Epoch 18/100\n",
            "12/12 [==============================] - 0s 3ms/step - loss: 0.0658 - accuracy: 0.9869 - val_loss: 0.0562 - val_accuracy: 0.9840\n",
            "Epoch 19/100\n",
            "12/12 [==============================] - 0s 3ms/step - loss: 0.0657 - accuracy: 0.9869 - val_loss: 0.0561 - val_accuracy: 0.9840\n",
            "Epoch 20/100\n",
            "12/12 [==============================] - 0s 3ms/step - loss: 0.0656 - accuracy: 0.9869 - val_loss: 0.0561 - val_accuracy: 0.9840\n",
            "Epoch 21/100\n",
            "12/12 [==============================] - 0s 3ms/step - loss: 0.0655 - accuracy: 0.9869 - val_loss: 0.0560 - val_accuracy: 0.9840\n",
            "Epoch 22/100\n",
            "12/12 [==============================] - 0s 3ms/step - loss: 0.0654 - accuracy: 0.9869 - val_loss: 0.0559 - val_accuracy: 0.9840\n",
            "Epoch 23/100\n",
            "12/12 [==============================] - 0s 3ms/step - loss: 0.0654 - accuracy: 0.9869 - val_loss: 0.0560 - val_accuracy: 0.9840\n",
            "Epoch 24/100\n",
            "12/12 [==============================] - 0s 2ms/step - loss: 0.0653 - accuracy: 0.9869 - val_loss: 0.0559 - val_accuracy: 0.9840\n",
            "Epoch 25/100\n",
            "12/12 [==============================] - 0s 3ms/step - loss: 0.0652 - accuracy: 0.9869 - val_loss: 0.0558 - val_accuracy: 0.9840\n",
            "Epoch 26/100\n",
            "12/12 [==============================] - 0s 2ms/step - loss: 0.0651 - accuracy: 0.9869 - val_loss: 0.0557 - val_accuracy: 0.9840\n",
            "Epoch 27/100\n",
            "12/12 [==============================] - 0s 3ms/step - loss: 0.0650 - accuracy: 0.9869 - val_loss: 0.0557 - val_accuracy: 0.9840\n",
            "Epoch 28/100\n",
            "12/12 [==============================] - 0s 3ms/step - loss: 0.0650 - accuracy: 0.9869 - val_loss: 0.0556 - val_accuracy: 0.9840\n",
            "Epoch 29/100\n",
            "12/12 [==============================] - 0s 3ms/step - loss: 0.0650 - accuracy: 0.9869 - val_loss: 0.0557 - val_accuracy: 0.9840\n",
            "Epoch 30/100\n",
            "12/12 [==============================] - 0s 3ms/step - loss: 0.0649 - accuracy: 0.9869 - val_loss: 0.0556 - val_accuracy: 0.9840\n",
            "Epoch 31/100\n",
            "12/12 [==============================] - 0s 3ms/step - loss: 0.0647 - accuracy: 0.9869 - val_loss: 0.0556 - val_accuracy: 0.9840\n",
            "Epoch 32/100\n",
            "12/12 [==============================] - 0s 3ms/step - loss: 0.0647 - accuracy: 0.9869 - val_loss: 0.0555 - val_accuracy: 0.9840\n",
            "Epoch 33/100\n",
            "12/12 [==============================] - 0s 3ms/step - loss: 0.0646 - accuracy: 0.9869 - val_loss: 0.0555 - val_accuracy: 0.9840\n",
            "Epoch 34/100\n",
            "12/12 [==============================] - 0s 3ms/step - loss: 0.0645 - accuracy: 0.9869 - val_loss: 0.0554 - val_accuracy: 0.9840\n",
            "Epoch 35/100\n",
            "12/12 [==============================] - 0s 3ms/step - loss: 0.0644 - accuracy: 0.9869 - val_loss: 0.0554 - val_accuracy: 0.9840\n",
            "Epoch 36/100\n",
            "12/12 [==============================] - 0s 3ms/step - loss: 0.0644 - accuracy: 0.9869 - val_loss: 0.0553 - val_accuracy: 0.9840\n",
            "Epoch 37/100\n",
            "12/12 [==============================] - 0s 3ms/step - loss: 0.0643 - accuracy: 0.9869 - val_loss: 0.0553 - val_accuracy: 0.9840\n",
            "Epoch 38/100\n",
            "12/12 [==============================] - 0s 3ms/step - loss: 0.0642 - accuracy: 0.9869 - val_loss: 0.0553 - val_accuracy: 0.9840\n",
            "Epoch 39/100\n",
            "12/12 [==============================] - 0s 3ms/step - loss: 0.0641 - accuracy: 0.9869 - val_loss: 0.0552 - val_accuracy: 0.9840\n",
            "Epoch 40/100\n",
            "12/12 [==============================] - 0s 3ms/step - loss: 0.0641 - accuracy: 0.9869 - val_loss: 0.0552 - val_accuracy: 0.9840\n",
            "Epoch 41/100\n",
            "12/12 [==============================] - 0s 3ms/step - loss: 0.0640 - accuracy: 0.9869 - val_loss: 0.0551 - val_accuracy: 0.9840\n",
            "Epoch 42/100\n",
            "12/12 [==============================] - 0s 2ms/step - loss: 0.0639 - accuracy: 0.9869 - val_loss: 0.0551 - val_accuracy: 0.9840\n",
            "Epoch 43/100\n",
            "12/12 [==============================] - 0s 3ms/step - loss: 0.0638 - accuracy: 0.9869 - val_loss: 0.0551 - val_accuracy: 0.9840\n",
            "Epoch 44/100\n",
            "12/12 [==============================] - 0s 3ms/step - loss: 0.0638 - accuracy: 0.9869 - val_loss: 0.0550 - val_accuracy: 0.9840\n",
            "Epoch 45/100\n",
            "12/12 [==============================] - 0s 3ms/step - loss: 0.0637 - accuracy: 0.9869 - val_loss: 0.0550 - val_accuracy: 0.9840\n",
            "Epoch 46/100\n",
            "12/12 [==============================] - 0s 2ms/step - loss: 0.0637 - accuracy: 0.9869 - val_loss: 0.0549 - val_accuracy: 0.9840\n",
            "Epoch 47/100\n",
            "12/12 [==============================] - 0s 3ms/step - loss: 0.0636 - accuracy: 0.9869 - val_loss: 0.0549 - val_accuracy: 0.9840\n",
            "Epoch 48/100\n",
            "12/12 [==============================] - 0s 3ms/step - loss: 0.0635 - accuracy: 0.9869 - val_loss: 0.0549 - val_accuracy: 0.9840\n",
            "Epoch 49/100\n",
            "12/12 [==============================] - 0s 3ms/step - loss: 0.0635 - accuracy: 0.9869 - val_loss: 0.0549 - val_accuracy: 0.9840\n",
            "Epoch 50/100\n",
            "12/12 [==============================] - 0s 3ms/step - loss: 0.0634 - accuracy: 0.9869 - val_loss: 0.0549 - val_accuracy: 0.9840\n",
            "Epoch 51/100\n",
            "12/12 [==============================] - 0s 4ms/step - loss: 0.0633 - accuracy: 0.9869 - val_loss: 0.0548 - val_accuracy: 0.9840\n",
            "Epoch 52/100\n",
            "12/12 [==============================] - 0s 3ms/step - loss: 0.0632 - accuracy: 0.9869 - val_loss: 0.0548 - val_accuracy: 0.9840\n",
            "Epoch 53/100\n",
            "12/12 [==============================] - 0s 3ms/step - loss: 0.0632 - accuracy: 0.9869 - val_loss: 0.0547 - val_accuracy: 0.9840\n",
            "Epoch 54/100\n",
            "12/12 [==============================] - 0s 3ms/step - loss: 0.0631 - accuracy: 0.9869 - val_loss: 0.0546 - val_accuracy: 0.9840\n",
            "Epoch 55/100\n",
            "12/12 [==============================] - 0s 3ms/step - loss: 0.0631 - accuracy: 0.9869 - val_loss: 0.0547 - val_accuracy: 0.9840\n",
            "Epoch 56/100\n",
            "12/12 [==============================] - 0s 3ms/step - loss: 0.0630 - accuracy: 0.9869 - val_loss: 0.0546 - val_accuracy: 0.9840\n",
            "Epoch 57/100\n",
            "12/12 [==============================] - 0s 3ms/step - loss: 0.0629 - accuracy: 0.9869 - val_loss: 0.0546 - val_accuracy: 0.9840\n",
            "Epoch 58/100\n",
            "12/12 [==============================] - 0s 3ms/step - loss: 0.0628 - accuracy: 0.9869 - val_loss: 0.0546 - val_accuracy: 0.9840\n",
            "Epoch 59/100\n",
            "12/12 [==============================] - 0s 3ms/step - loss: 0.0628 - accuracy: 0.9869 - val_loss: 0.0546 - val_accuracy: 0.9840\n",
            "Epoch 60/100\n",
            "12/12 [==============================] - 0s 3ms/step - loss: 0.0627 - accuracy: 0.9869 - val_loss: 0.0545 - val_accuracy: 0.9840\n",
            "Epoch 61/100\n",
            "12/12 [==============================] - 0s 3ms/step - loss: 0.0627 - accuracy: 0.9869 - val_loss: 0.0545 - val_accuracy: 0.9840\n",
            "Epoch 62/100\n",
            "12/12 [==============================] - 0s 3ms/step - loss: 0.0626 - accuracy: 0.9869 - val_loss: 0.0544 - val_accuracy: 0.9840\n",
            "Epoch 63/100\n",
            "12/12 [==============================] - 0s 3ms/step - loss: 0.0625 - accuracy: 0.9869 - val_loss: 0.0545 - val_accuracy: 0.9840\n",
            "Epoch 64/100\n",
            "12/12 [==============================] - 0s 3ms/step - loss: 0.0624 - accuracy: 0.9869 - val_loss: 0.0544 - val_accuracy: 0.9840\n",
            "Epoch 65/100\n",
            "12/12 [==============================] - 0s 3ms/step - loss: 0.0624 - accuracy: 0.9869 - val_loss: 0.0544 - val_accuracy: 0.9840\n",
            "Epoch 66/100\n",
            "12/12 [==============================] - 0s 3ms/step - loss: 0.0623 - accuracy: 0.9869 - val_loss: 0.0543 - val_accuracy: 0.9840\n",
            "Epoch 67/100\n",
            "12/12 [==============================] - 0s 3ms/step - loss: 0.0623 - accuracy: 0.9869 - val_loss: 0.0542 - val_accuracy: 0.9840\n",
            "Epoch 68/100\n",
            "12/12 [==============================] - 0s 3ms/step - loss: 0.0622 - accuracy: 0.9869 - val_loss: 0.0543 - val_accuracy: 0.9840\n",
            "Epoch 69/100\n",
            "12/12 [==============================] - 0s 3ms/step - loss: 0.0621 - accuracy: 0.9869 - val_loss: 0.0543 - val_accuracy: 0.9840\n",
            "Epoch 70/100\n",
            "12/12 [==============================] - 0s 3ms/step - loss: 0.0621 - accuracy: 0.9869 - val_loss: 0.0542 - val_accuracy: 0.9840\n",
            "Epoch 71/100\n",
            "12/12 [==============================] - 0s 3ms/step - loss: 0.0620 - accuracy: 0.9869 - val_loss: 0.0542 - val_accuracy: 0.9840\n",
            "Epoch 72/100\n",
            "12/12 [==============================] - 0s 3ms/step - loss: 0.0620 - accuracy: 0.9869 - val_loss: 0.0541 - val_accuracy: 0.9840\n",
            "Epoch 73/100\n",
            "12/12 [==============================] - 0s 3ms/step - loss: 0.0619 - accuracy: 0.9869 - val_loss: 0.0542 - val_accuracy: 0.9840\n",
            "Epoch 74/100\n",
            "12/12 [==============================] - 0s 3ms/step - loss: 0.0619 - accuracy: 0.9869 - val_loss: 0.0541 - val_accuracy: 0.9840\n",
            "Epoch 75/100\n",
            "12/12 [==============================] - 0s 3ms/step - loss: 0.0618 - accuracy: 0.9869 - val_loss: 0.0540 - val_accuracy: 0.9840\n",
            "Epoch 76/100\n",
            "12/12 [==============================] - 0s 3ms/step - loss: 0.0617 - accuracy: 0.9869 - val_loss: 0.0541 - val_accuracy: 0.9840\n",
            "Epoch 77/100\n",
            "12/12 [==============================] - 0s 3ms/step - loss: 0.0617 - accuracy: 0.9869 - val_loss: 0.0541 - val_accuracy: 0.9840\n",
            "Epoch 78/100\n",
            "12/12 [==============================] - 0s 3ms/step - loss: 0.0616 - accuracy: 0.9869 - val_loss: 0.0541 - val_accuracy: 0.9840\n",
            "Epoch 79/100\n",
            "12/12 [==============================] - 0s 3ms/step - loss: 0.0616 - accuracy: 0.9869 - val_loss: 0.0540 - val_accuracy: 0.9840\n",
            "Epoch 80/100\n",
            "12/12 [==============================] - 0s 3ms/step - loss: 0.0615 - accuracy: 0.9869 - val_loss: 0.0541 - val_accuracy: 0.9840\n",
            "Epoch 81/100\n",
            "12/12 [==============================] - 0s 3ms/step - loss: 0.0615 - accuracy: 0.9869 - val_loss: 0.0541 - val_accuracy: 0.9840\n",
            "Epoch 82/100\n",
            "12/12 [==============================] - 0s 3ms/step - loss: 0.0614 - accuracy: 0.9869 - val_loss: 0.0540 - val_accuracy: 0.9840\n",
            "Epoch 83/100\n",
            "12/12 [==============================] - 0s 3ms/step - loss: 0.0614 - accuracy: 0.9869 - val_loss: 0.0540 - val_accuracy: 0.9840\n",
            "Epoch 84/100\n",
            "12/12 [==============================] - 0s 3ms/step - loss: 0.0613 - accuracy: 0.9869 - val_loss: 0.0539 - val_accuracy: 0.9840\n",
            "Epoch 85/100\n",
            "12/12 [==============================] - 0s 3ms/step - loss: 0.0613 - accuracy: 0.9869 - val_loss: 0.0539 - val_accuracy: 0.9840\n",
            "Epoch 86/100\n",
            "12/12 [==============================] - 0s 3ms/step - loss: 0.0612 - accuracy: 0.9869 - val_loss: 0.0539 - val_accuracy: 0.9840\n",
            "Epoch 87/100\n",
            "12/12 [==============================] - 0s 3ms/step - loss: 0.0611 - accuracy: 0.9869 - val_loss: 0.0539 - val_accuracy: 0.9840\n",
            "Epoch 88/100\n",
            "12/12 [==============================] - 0s 3ms/step - loss: 0.0611 - accuracy: 0.9869 - val_loss: 0.0539 - val_accuracy: 0.9840\n",
            "Epoch 89/100\n",
            "12/12 [==============================] - 0s 3ms/step - loss: 0.0611 - accuracy: 0.9869 - val_loss: 0.0539 - val_accuracy: 0.9840\n",
            "Epoch 90/100\n",
            "12/12 [==============================] - 0s 3ms/step - loss: 0.0610 - accuracy: 0.9869 - val_loss: 0.0538 - val_accuracy: 0.9840\n",
            "Epoch 91/100\n",
            "12/12 [==============================] - 0s 3ms/step - loss: 0.0609 - accuracy: 0.9869 - val_loss: 0.0538 - val_accuracy: 0.9840\n",
            "Epoch 92/100\n",
            "12/12 [==============================] - 0s 3ms/step - loss: 0.0608 - accuracy: 0.9869 - val_loss: 0.0539 - val_accuracy: 0.9840\n",
            "Epoch 93/100\n",
            "12/12 [==============================] - 0s 3ms/step - loss: 0.0608 - accuracy: 0.9869 - val_loss: 0.0538 - val_accuracy: 0.9840\n",
            "Epoch 94/100\n",
            "12/12 [==============================] - 0s 3ms/step - loss: 0.0608 - accuracy: 0.9869 - val_loss: 0.0537 - val_accuracy: 0.9840\n",
            "Epoch 95/100\n",
            "12/12 [==============================] - 0s 3ms/step - loss: 0.0608 - accuracy: 0.9869 - val_loss: 0.0537 - val_accuracy: 0.9840\n",
            "Epoch 96/100\n",
            "12/12 [==============================] - 0s 3ms/step - loss: 0.0606 - accuracy: 0.9869 - val_loss: 0.0537 - val_accuracy: 0.9840\n",
            "Epoch 97/100\n",
            "12/12 [==============================] - 0s 3ms/step - loss: 0.0606 - accuracy: 0.9869 - val_loss: 0.0538 - val_accuracy: 0.9840\n",
            "Epoch 98/100\n",
            "12/12 [==============================] - 0s 3ms/step - loss: 0.0605 - accuracy: 0.9869 - val_loss: 0.0538 - val_accuracy: 0.9840\n",
            "Epoch 99/100\n",
            "12/12 [==============================] - 0s 3ms/step - loss: 0.0605 - accuracy: 0.9869 - val_loss: 0.0538 - val_accuracy: 0.9840\n",
            "Epoch 100/100\n",
            "12/12 [==============================] - 0s 3ms/step - loss: 0.0604 - accuracy: 0.9869 - val_loss: 0.0538 - val_accuracy: 0.9840\n"
          ],
          "name": "stdout"
        }
      ]
    },
    {
      "cell_type": "code",
      "metadata": {
        "id": "TscmepVZvpp7",
        "outputId": "74115377-27be-42b8-afd1-3ff62bd4924f",
        "colab": {
          "base_uri": "https://localhost:8080/",
          "height": 498
        }
      },
      "source": [
        "training_accuracy = history.history['accuracy']\n",
        "validation_accuracy = history.history['val_accuracy']\n",
        "\n",
        "training_loss = history.history['loss']\n",
        "validation_loss = history.history['val_loss']\n",
        "\n",
        "epochs_range=range(EPOCHS)\n",
        "\n",
        "plt.figure(figsize=(8, 8))\n",
        "plt.subplot(1, 2, 1)\n",
        "plt.plot(epochs_range, training_accuracy, label='Training Accuracy')\n",
        "plt.plot(epochs_range, validation_accuracy, label='Validation Accuracy')\n",
        "\n",
        "plt.legend(loc='center right')\n",
        "plt.title('Training and Validation Accuracy')\n",
        "\n",
        "plt.subplot(1, 2, 2)\n",
        "plt.plot(epochs_range, training_loss, label='Training Loss')\n",
        "plt.plot(epochs_range, validation_loss, label='Validation Loss')\n",
        "plt.legend(loc='upper right')\n",
        "plt.title('Training and Validation Loss')\n",
        "plt.show()"
      ],
      "execution_count": 79,
      "outputs": [
        {
          "output_type": "display_data",
          "data": {
            "image/png": "[encoded data removed]",
            "text/plain": [
              "<Figure size 576x576 with 2 Axes>"
            ]
          },
          "metadata": {
            "tags": [],
            "image/png": {
              "width": 505,
              "height": 481
            },
            "needs_background": "light"
          }
        }
      ]
    },
    {
      "cell_type": "code",
      "metadata": {
        "id": "RTNppOUa0r9q"
      },
      "source": [
        "import pandas as pd\n"
      ],
      "execution_count": 85,
      "outputs": []
    },
    {
      "cell_type": "code",
      "metadata": {
        "id": "gfqJSpuj5VuQ",
        "outputId": "70336679-38f6-4ecc-c026-a103bd8c2618",
        "colab": {
          "base_uri": "https://localhost:8080/",
          "height": 402
        }
      },
      "source": [
        "pd.DataFrame({'model':model.predict(X_train).reshape(381,), 'actual':y_train})"
      ],
      "execution_count": 104,
      "outputs": [
        {
          "output_type": "execute_result",
          "data": {
            "text/html": [
              "<div>\n",
              "<style scoped>\n",
              "    .dataframe tbody tr th:only-of-type {\n",
              "        vertical-align: middle;\n",
              "    }\n",
              "\n",
              "    .dataframe tbody tr th {\n",
              "        vertical-align: top;\n",
              "    }\n",
              "\n",
              "    .dataframe thead th {\n",
              "        text-align: right;\n",
              "    }\n",
              "</style>\n",
              "<table border=\"1\" class=\"dataframe\">\n",
              "  <thead>\n",
              "    <tr style=\"text-align: right;\">\n",
              "      <th></th>\n",
              "      <th>model</th>\n",
              "      <th>actual</th>\n",
              "    </tr>\n",
              "  </thead>\n",
              "  <tbody>\n",
              "    <tr>\n",
              "      <th>0</th>\n",
              "      <td>1.119438e-02</td>\n",
              "      <td>0</td>\n",
              "    </tr>\n",
              "    <tr>\n",
              "      <th>1</th>\n",
              "      <td>9.992179e-01</td>\n",
              "      <td>1</td>\n",
              "    </tr>\n",
              "    <tr>\n",
              "      <th>2</th>\n",
              "      <td>1.971670e-07</td>\n",
              "      <td>0</td>\n",
              "    </tr>\n",
              "    <tr>\n",
              "      <th>3</th>\n",
              "      <td>9.939536e-01</td>\n",
              "      <td>1</td>\n",
              "    </tr>\n",
              "    <tr>\n",
              "      <th>4</th>\n",
              "      <td>9.988496e-01</td>\n",
              "      <td>1</td>\n",
              "    </tr>\n",
              "    <tr>\n",
              "      <th>...</th>\n",
              "      <td>...</td>\n",
              "      <td>...</td>\n",
              "    </tr>\n",
              "    <tr>\n",
              "      <th>376</th>\n",
              "      <td>1.000000e+00</td>\n",
              "      <td>1</td>\n",
              "    </tr>\n",
              "    <tr>\n",
              "      <th>377</th>\n",
              "      <td>8.872631e-01</td>\n",
              "      <td>1</td>\n",
              "    </tr>\n",
              "    <tr>\n",
              "      <th>378</th>\n",
              "      <td>9.999204e-01</td>\n",
              "      <td>1</td>\n",
              "    </tr>\n",
              "    <tr>\n",
              "      <th>379</th>\n",
              "      <td>2.552986e-02</td>\n",
              "      <td>0</td>\n",
              "    </tr>\n",
              "    <tr>\n",
              "      <th>380</th>\n",
              "      <td>9.939247e-01</td>\n",
              "      <td>1</td>\n",
              "    </tr>\n",
              "  </tbody>\n",
              "</table>\n",
              "<p>381 rows × 2 columns</p>\n",
              "</div>"
            ],
            "text/plain": [
              "            model  actual\n",
              "0    1.119438e-02       0\n",
              "1    9.992179e-01       1\n",
              "2    1.971670e-07       0\n",
              "3    9.939536e-01       1\n",
              "4    9.988496e-01       1\n",
              "..            ...     ...\n",
              "376  1.000000e+00       1\n",
              "377  8.872631e-01       1\n",
              "378  9.999204e-01       1\n",
              "379  2.552986e-02       0\n",
              "380  9.939247e-01       1\n",
              "\n",
              "[381 rows x 2 columns]"
            ]
          },
          "metadata": {
            "tags": []
          },
          "execution_count": 104
        }
      ]
    },
    {
      "cell_type": "markdown",
      "metadata": {
        "id": "Mr_mAIrY8Rt3"
      },
      "source": [
        "### End of Document\n"
      ]
    }
  ]
}
