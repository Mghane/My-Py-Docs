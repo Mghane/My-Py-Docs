{
  "nbformat": 4,
  "nbformat_minor": 0,
  "metadata": {
    "colab": {
      "name": "Part_1_Introduction_to_Neural_Networks_with_TensorFlow_(Exercise).ipynb",
      "provenance": [],
      "collapsed_sections": [],
      "include_colab_link": true
    },
    "kernelspec": {
      "display_name": "Python 3",
      "language": "python",
      "name": "python3"
    },
    "language_info": {
      "codemirror_mode": {
        "name": "ipython",
        "version": 3
      },
      "file_extension": ".py",
      "mimetype": "text/x-python",
      "name": "python",
      "nbconvert_exporter": "python",
      "pygments_lexer": "ipython3",
      "version": "3.7.4"
    }
  },
  "cells": [
    {
      "cell_type": "markdown",
      "metadata": {
        "id": "view-in-github",
        "colab_type": "text"
      },
      "source": [
        "<a href=\"https://colab.research.google.com/github/Mghane/My-Py-Docs/blob/master/Part_1_Introduction_to_Neural_Networks_with_TensorFlow_(Exercise).ipynb\" target=\"_parent\"><img src=\"https://colab.research.google.com/assets/colab-badge.svg\" alt=\"Open In Colab\"/></a>"
      ]
    },
    {
      "cell_type": "markdown",
      "metadata": {
        "colab_type": "text",
        "id": "q9aaxiSJg60h"
      },
      "source": [
        "# Introduction to Neural Networks with TensorFlow\n",
        "\n",
        "In this notebook, you'll get introduced to [TensorFlow](https://www.tensorflow.org/), an open source library to help you develop and train machine learning models.\n",
        "\n",
        "TensorFlow in a lot of ways behaves like the arrays you love from NumPy. NumPy arrays, after all, are just tensors. TensorFlow takes these tensors and makes it simple to move them to GPUs for the faster processing needed when training neural networks. TensorFlow can also calculate gradients automatically, which is perfect for backpropagation, and has  intuitive high-level APIs specifically for building neural networks. "
      ]
    },
    {
      "cell_type": "markdown",
      "metadata": {
        "colab_type": "text",
        "id": "Q6WXEV-OiFY7"
      },
      "source": [
        "## Neural Networks\n",
        "\n",
        "Deep Learning is based on artificial neural networks which have been around in some form since the late 1950s. The networks are built from individual parts approximating neurons, typically called units or simply \"neurons.\" Each unit has some number of weighted inputs. These weighted inputs are summed together (a linear combination) then passed through an activation function to get the unit's output.\n",
        "\n",
        "<img src=\"assets/simple_neuron.png\" width=400px>\n",
        "\n",
        "Mathematically, the above looks like: \n",
        "\n",
        "$$\n",
        "y = f(h)\n",
        "$$\n",
        "\n",
        "where,\n",
        "\n",
        "$$\n",
        "h = w_1 x_1 + w_2 x_2 + b = \\sum_{i=1}^2 w_i x_i + b\n",
        "$$\n",
        "\n",
        "If we let $b = w_0x_0$, then we can express $h$ as the dot/inner product of two vectors:\n",
        "\n",
        "$$\n",
        "h = \\begin{bmatrix}\n",
        "x_0 \\, x_1 \\, x_2\n",
        "\\end{bmatrix}\n",
        "\\cdot \n",
        "\\begin{bmatrix}\n",
        "           w_0 \\\\\n",
        "           w_1 \\\\\n",
        "           w_2\n",
        "\\end{bmatrix} = w_0 x_0 + w_1 x_1 + w_2 x_2\n",
        "$$"
      ]
    },
    {
      "cell_type": "markdown",
      "metadata": {
        "colab_type": "text",
        "id": "AcBD-UAaiaUc"
      },
      "source": [
        "## Tensors\n",
        "\n",
        "It turns out neural network computations are just a bunch of linear algebra operations on *tensors*, a generalization of matrices. A vector is a 1-dimensional tensor, a matrix is a 2-dimensional tensor, an array with three indices is a 3-dimensional tensor (RGB color images for example). The fundamental data structure for neural networks are tensors and TensorFlow is built around tensors.\n",
        "\n",
        "<img src=\"assets/tensor_examples.svg\" width=600px>\n",
        "\n",
        "With the basics covered, it's time to explore how we can use TensorFlow to build a simple neural network."
      ]
    },
    {
      "cell_type": "markdown",
      "metadata": {
        "colab_type": "text",
        "id": "pt6qo5hiesm7"
      },
      "source": [
        "## Import Resources"
      ]
    },
    {
      "cell_type": "code",
      "metadata": {
        "id": "X6A7MTuu90xc",
        "colab_type": "code",
        "colab": {},
        "outputId": "58a804c6-6616-474a-f9f7-772082bc18b9"
      },
      "source": [
        "pip install -q -U \"tensorflow-gpu==2.0.0b1\""
      ],
      "execution_count": 0,
      "outputs": [
        {
          "output_type": "stream",
          "text": [
            "Note: you may need to restart the kernel to use updated packages.\n"
          ],
          "name": "stdout"
        }
      ]
    },
    {
      "cell_type": "code",
      "metadata": {
        "id": "ySbvff8-90xk",
        "colab_type": "code",
        "colab": {},
        "outputId": "1daad7e5-4c90-4158-c6b3-46651f90e82c"
      },
      "source": [
        "pip install protobuf"
      ],
      "execution_count": 0,
      "outputs": [
        {
          "output_type": "stream",
          "text": [
            "Requirement already satisfied: protobuf in c:\\users\\mehdi\\anaconda3\\lib\\site-packages (3.12.2)\n",
            "Requirement already satisfied: six>=1.9 in c:\\users\\mehdi\\anaconda3\\lib\\site-packages (from protobuf) (1.14.0)\n",
            "Requirement already satisfied: setuptools in c:\\users\\mehdi\\anaconda3\\lib\\site-packages (from protobuf) (46.4.0.post20200518)\n",
            "Note: you may need to restart the kernel to use updated packages.\n"
          ],
          "name": "stdout"
        }
      ]
    },
    {
      "cell_type": "code",
      "metadata": {
        "id": "RIGLdmOQ90xp",
        "colab_type": "code",
        "colab": {},
        "outputId": "b18bdfb4-6370-48c9-f195-42236e6b43b9"
      },
      "source": [
        "pip install tensorflow-gpu"
      ],
      "execution_count": 0,
      "outputs": [
        {
          "output_type": "stream",
          "text": [
            "Requirement already satisfied: tensorflow-gpu in c:\\users\\mehdi\\anaconda3\\lib\\site-packages (2.0.0b1)\n",
            "Requirement already satisfied: keras-preprocessing>=1.0.5 in c:\\users\\mehdi\\anaconda3\\lib\\site-packages (from tensorflow-gpu) (1.1.2)\n",
            "Requirement already satisfied: keras-applications>=1.0.6 in c:\\users\\mehdi\\anaconda3\\lib\\site-packages (from tensorflow-gpu) (1.0.8)\n",
            "Requirement already satisfied: tf-estimator-nightly<1.14.0.dev2019060502,>=1.14.0.dev2019060501 in c:\\users\\mehdi\\anaconda3\\lib\\site-packages (from tensorflow-gpu) (1.14.0.dev2019060501)\n",
            "Requirement already satisfied: termcolor>=1.1.0 in c:\\users\\mehdi\\anaconda3\\lib\\site-packages (from tensorflow-gpu) (1.1.0)\n",
            "Requirement already satisfied: wrapt>=1.11.1 in c:\\users\\mehdi\\anaconda3\\lib\\site-packages (from tensorflow-gpu) (1.11.2)\n",
            "Requirement already satisfied: six>=1.10.0 in c:\\users\\mehdi\\anaconda3\\lib\\site-packages (from tensorflow-gpu) (1.14.0)\n",
            "Requirement already satisfied: tb-nightly<1.14.0a20190604,>=1.14.0a20190603 in c:\\users\\mehdi\\anaconda3\\lib\\site-packages (from tensorflow-gpu) (1.14.0a20190603)\n",
            "Requirement already satisfied: wheel>=0.26 in c:\\users\\mehdi\\anaconda3\\lib\\site-packages (from tensorflow-gpu) (0.34.2)\n",
            "Requirement already satisfied: gast>=0.2.0 in c:\\users\\mehdi\\anaconda3\\lib\\site-packages (from tensorflow-gpu) (0.3.3)\n",
            "Requirement already satisfied: protobuf>=3.6.1 in c:\\users\\mehdi\\anaconda3\\lib\\site-packages (from tensorflow-gpu) (3.12.2)\n",
            "Note: you may need to restart the kernel to use updated packages.\n",
            "Requirement already satisfied: astor>=0.6.0 in c:\\users\\mehdi\\anaconda3\\lib\\site-packages (from tensorflow-gpu) (0.8.1)\n",
            "Requirement already satisfied: numpy<2.0,>=1.14.5 in c:\\users\\mehdi\\anaconda3\\lib\\site-packages (from tensorflow-gpu) (1.16.5)\n",
            "Requirement already satisfied: grpcio>=1.8.6 in c:\\users\\mehdi\\anaconda3\\lib\\site-packages (from tensorflow-gpu) (1.29.0)\n",
            "Requirement already satisfied: google-pasta>=0.1.6 in c:\\users\\mehdi\\anaconda3\\lib\\site-packages (from tensorflow-gpu) (0.2.0)\n",
            "Requirement already satisfied: absl-py>=0.7.0 in c:\\users\\mehdi\\anaconda3\\lib\\site-packages (from tensorflow-gpu) (0.9.0)\n",
            "Requirement already satisfied: h5py in c:\\users\\mehdi\\anaconda3\\lib\\site-packages (from keras-applications>=1.0.6->tensorflow-gpu) (2.10.0)\n",
            "Requirement already satisfied: werkzeug>=0.11.15 in c:\\users\\mehdi\\anaconda3\\lib\\site-packages (from tb-nightly<1.14.0a20190604,>=1.14.0a20190603->tensorflow-gpu) (1.0.1)\n",
            "Requirement already satisfied: setuptools>=41.0.0 in c:\\users\\mehdi\\anaconda3\\lib\\site-packages (from tb-nightly<1.14.0a20190604,>=1.14.0a20190603->tensorflow-gpu) (46.4.0.post20200518)\n",
            "Requirement already satisfied: markdown>=2.6.8 in c:\\users\\mehdi\\anaconda3\\lib\\site-packages (from tb-nightly<1.14.0a20190604,>=1.14.0a20190603->tensorflow-gpu) (3.2.2)\n",
            "Requirement already satisfied: importlib-metadata; python_version < \"3.8\" in c:\\users\\mehdi\\anaconda3\\lib\\site-packages (from markdown>=2.6.8->tb-nightly<1.14.0a20190604,>=1.14.0a20190603->tensorflow-gpu) (1.6.0)\n",
            "Requirement already satisfied: zipp>=0.5 in c:\\users\\mehdi\\anaconda3\\lib\\site-packages (from importlib-metadata; python_version < \"3.8\"->markdown>=2.6.8->tb-nightly<1.14.0a20190604,>=1.14.0a20190603->tensorflow-gpu) (3.1.0)\n"
          ],
          "name": "stdout"
        }
      ]
    },
    {
      "cell_type": "code",
      "metadata": {
        "colab_type": "code",
        "id": "adTiqrSxkPvL",
        "colab": {}
      },
      "source": [
        "import warnings\n",
        "warnings.filterwarnings('ignore')\n",
        "\n",
        "import numpy as np\n",
        "import tensorflow as tf"
      ],
      "execution_count": 0,
      "outputs": []
    },
    {
      "cell_type": "code",
      "metadata": {
        "id": "SrCjzcKu90xw",
        "colab_type": "code",
        "colab": {}
      },
      "source": [
        "import logging\n",
        "logger = tf.get_logger()\n",
        "logger.setLevel(logging.ERROR)"
      ],
      "execution_count": 0,
      "outputs": []
    },
    {
      "cell_type": "code",
      "metadata": {
        "colab_type": "code",
        "id": "jyZjjOb-V4eo",
        "outputId": "7ccbbaf4-9dda-46d0-dd3a-cfbf258ceb9f",
        "colab": {
          "base_uri": "https://localhost:8080/",
          "height": 50
        }
      },
      "source": [
        "print('Using:')\n",
        "print('\\t\\u2022 TensorFlow version:', tf.__version__)"
      ],
      "execution_count": 4,
      "outputs": [
        {
          "output_type": "stream",
          "text": [
            "Using:\n",
            "\t• TensorFlow version: 2.2.0\n"
          ],
          "name": "stdout"
        }
      ]
    },
    {
      "cell_type": "markdown",
      "metadata": {
        "colab_type": "text",
        "id": "IVTYgypBfx2a"
      },
      "source": [
        "## Single Layer Neural Network"
      ]
    },
    {
      "cell_type": "code",
      "metadata": {
        "colab_type": "code",
        "id": "UDJArguZkLPJ",
        "outputId": "22a32a56-be51-48f0-b845-48c3ef5acf7b",
        "colab": {
          "base_uri": "https://localhost:8080/",
          "height": 171
        }
      },
      "source": [
        "# Set the random seed so things are reproducible\n",
        "tf.random.set_seed(7) \n",
        "\n",
        "# Create 5 random input features\n",
        "features = tf.random.normal((1, 5))\n",
        "\n",
        "# Create random weights for our neural network\n",
        "weights = tf.random.normal((1, 5))\n",
        "\n",
        "# Create a random bias term for our neural network\n",
        "bias = tf.random.normal((1, 1))\n",
        "\n",
        "print('Features:\\n', features)\n",
        "print('\\nWeights:\\n', weights)\n",
        "print('\\nBias:\\n', bias)"
      ],
      "execution_count": 13,
      "outputs": [
        {
          "output_type": "stream",
          "text": [
            "Features:\n",
            " tf.Tensor([[ 0.5983449   0.06276207  0.14631742  0.48481876 -0.23572342]], shape=(1, 5), dtype=float32)\n",
            "\n",
            "Weights:\n",
            " tf.Tensor([[-2.2733312  -1.6592104  -0.2633568  -0.80923414  1.0294315 ]], shape=(1, 5), dtype=float32)\n",
            "\n",
            "Bias:\n",
            " tf.Tensor([[1.5749502]], shape=(1, 1), dtype=float32)\n"
          ],
          "name": "stdout"
        }
      ]
    },
    {
      "cell_type": "markdown",
      "metadata": {
        "colab_type": "text",
        "id": "7o-2IomPkZx6"
      },
      "source": [
        "Above we generated data we can use to get the output of our simple network. This is all just random for now, going forward we'll start using real data. \n",
        "\n",
        "As we can see above, in TensorFlow, tensors are `tf.Tensor` objects that have a data type and a shape. Now let's go through each relevant line:\n",
        "\n",
        "* `features = tf.random.normal((1, 5))` creates a tensor with shape `(1, 5)`, one row and five columns, that contains random values from a normal distribution with a mean of zero and standard deviation of one.\n",
        "\n",
        "* `weights = tf.random.normal((1, 5))` creates a tensor with shape `(1, 5)`, one row and five columns, again containing random values from a normal distribution with a mean of zero and standard deviation of one.\n",
        "\n",
        "* `bias = tf.random.normal((1, 1))` creates a single random value from a normal distribution.\n",
        "\n",
        "TensorFlow's tensors can be added, multiplied, subtracted, etc., just like NumPy arrays. In general, you'll use TensorFlow's tensors pretty much the same way you'd use NumPy arrays. They come with some nice benefits though such as GPU acceleration which we'll get to later. For now, we will use the generated random data to calculate the output of this simple single layer network.\n",
        "\n",
        "Now we create the activation function we are going to use:"
      ]
    },
    {
      "cell_type": "code",
      "metadata": {
        "colab_type": "code",
        "id": "wmOi7zjFgsMM",
        "colab": {}
      },
      "source": [
        "def sigmoid_activation(x):\n",
        "    \"\"\" Sigmoid activation function\n",
        "    \n",
        "        Arguments\n",
        "        ---------\n",
        "        x: tf.Tensor. Must be one of the following types: bfloat16, half, float32, float64, complex64, complex128.\n",
        "    \"\"\"\n",
        "    return 1/(1+tf.exp(-x))"
      ],
      "execution_count": 0,
      "outputs": []
    },
    {
      "cell_type": "markdown",
      "metadata": {
        "colab_type": "text",
        "id": "57QrwP-0gny1"
      },
      "source": [
        "Now, let's calculate the output of our single layer neural network.\n",
        "\n",
        "> **Exercise**: Calculate the output of the network with input features `features`, weights `weights`, and bias `bias`. Similar to NumPy, TensorFlow has a `tf.multiply(a, b)` that multiplies tensors `a` and `b` element-wise. It also has `tf.reduce_sum(x)` that computes the sum of the elements of tensor `x`. Use the `sigmoid_activation` function defined above as the activation function."
      ]
    },
    {
      "cell_type": "code",
      "metadata": {
        "colab_type": "code",
        "id": "qujbYK1nkaW-",
        "outputId": "96f9bfcc-4fa7-41e9-b902-fafdd2774afc",
        "colab": {
          "base_uri": "https://localhost:8080/",
          "height": 50
        }
      },
      "source": [
        "## Solution\n",
        "y = sigmoid_activation(tf.reduce_sum(tf.multiply(features, weights))+ bias)\n",
        "\n",
        "print('label:\\n', y)"
      ],
      "execution_count": 18,
      "outputs": [
        {
          "output_type": "stream",
          "text": [
            "label:\n",
            " tf.Tensor([[0.3628656]], shape=(1, 1), dtype=float32)\n"
          ],
          "name": "stdout"
        }
      ]
    },
    {
      "cell_type": "markdown",
      "metadata": {
        "colab_type": "text",
        "id": "gx6LpDRakgOD"
      },
      "source": [
        "You can do the multiplication and sum in the same operation using a matrix multiplication. In general, you'll want to use matrix multiplications since they are more efficient and accelerated using modern libraries and high-performance computing on GPUs.\n",
        "\n",
        "Here, we want to do a matrix multiplication of the features and the weights. For this we can use `tf.matmul()`. If we try to do it with `features` and `weights` as they are, we'll get an error\n",
        "\n",
        "```python\n",
        ">> tf.matmul(features, weights)\n",
        "\n",
        "---------------------------------------------------------------------------\n",
        "InvalidArgumentError                      Traceback (most recent call last)\n",
        "<ipython-input-7-66a4fe44f20b> in <module>()\n",
        "      1 \n",
        "----> 2 y = sigmoid_activation(tf.matmul(features, weights) + bias)\n",
        "\n",
        "2 frames\n",
        "/usr/local/lib/python3.6/dist-packages/six.py in raise_from(value, from_value)\n",
        "\n",
        "InvalidArgumentError: Matrix size-incompatible: In[0]: [1,5], In[1]: [1,5] [Op:MatMul] name: MatMul/\n",
        "```\n",
        "\n",
        "As you're building neural networks in any framework, you'll see this often. Really often. What's happening here is our tensors aren't the correct shapes to perform a matrix multiplication. Remember that for matrix multiplications, the number of columns in the first tensor must equal to the number of rows in the second tensor. Both `features` and `weights` have the same shape, `(1, 5)`. This means we need to change the shape of `weights` to get the matrix multiplication to work.\n",
        "\n",
        "**Note:** To see the shape of a tensor called `tensor`, use `tensor.shape`. If you're building neural networks, you'll be using this method often."
      ]
    },
    {
      "cell_type": "code",
      "metadata": {
        "colab_type": "code",
        "id": "5flC0NB5uSlk",
        "colab": {}
      },
      "source": [
        "print('Features Shape:', features.shape)\n",
        "print('Weights Shape:', weights.shape)\n",
        "print('Bias Shape:', bias.shape)"
      ],
      "execution_count": 0,
      "outputs": []
    },
    {
      "cell_type": "markdown",
      "metadata": {
        "colab_type": "text",
        "id": "lC0vZqQWvBon"
      },
      "source": [
        "Now, we need to change the shape of the `weights` tensor to get the matrix multiplication to work. However, if we use the `tf.matmul(a,b)` function, this will not be necessary because the `tf.matmul(a,b)` function has the `transpose_a` and `transpose_b` arguments that allows us to transpose the `a` or `b` tensors for the multiplication without actually changing the shape of the tensor permanently. Therefore, in this case we can use the argument `transpose_b = True` to transpose the `weights` tensor from `(1,5)` to `(5,1)` just for the multiplication.\n",
        "\n",
        "> **Exercise**: Calculate the output of our little network using matrix multiplication."
      ]
    },
    {
      "cell_type": "code",
      "metadata": {
        "colab_type": "code",
        "id": "iIQOahT4kg4H",
        "outputId": "42a5a704-24f8-4a35-ab9d-6dcb51a5d696",
        "colab": {
          "base_uri": "https://localhost:8080/",
          "height": 50
        }
      },
      "source": [
        "## Solution\n",
        "y = sigmoid_activation(tf.matmul(features, weights,transpose_b=(5,1))+bias)\n",
        "#alternative# y = sigmoid_activation(tf.matmul(features, weights,transpose_b=True)+bias)\n",
        "print('label:\\n', y)"
      ],
      "execution_count": 20,
      "outputs": [
        {
          "output_type": "stream",
          "text": [
            "label:\n",
            " tf.Tensor([[0.3628656]], shape=(1, 1), dtype=float32)\n"
          ],
          "name": "stdout"
        }
      ]
    },
    {
      "cell_type": "markdown",
      "metadata": {
        "colab_type": "text",
        "id": "pxzezexmkpzs"
      },
      "source": [
        "We can see that we get the same value as before. Now let's check that the shape of the `weights` tensor has not been permanently changed by the `transpose_b = True` argument. "
      ]
    },
    {
      "cell_type": "code",
      "metadata": {
        "colab_type": "code",
        "id": "XoESCJcLkrI5",
        "outputId": "f7081bc6-4642-4301-f0be-64b774e199a9",
        "colab": {
          "base_uri": "https://localhost:8080/",
          "height": 34
        }
      },
      "source": [
        "print('Weights Shape:', weights.shape)"
      ],
      "execution_count": 21,
      "outputs": [
        {
          "output_type": "stream",
          "text": [
            "Weights Shape: (1, 5)\n"
          ],
          "name": "stdout"
        }
      ]
    },
    {
      "cell_type": "markdown",
      "metadata": {
        "colab_type": "text",
        "id": "hYAyS685kv4e"
      },
      "source": [
        "As we can see, the shape of the `weights` tensor remains unchanged."
      ]
    },
    {
      "cell_type": "markdown",
      "metadata": {
        "colab_type": "text",
        "id": "ktu4Jfq3kzWx"
      },
      "source": [
        "## Multi-Layer Neural Network\n",
        "\n",
        "That's how you can calculate the output for a single neuron. The real power of this algorithm happens when you start stacking these individual units into layers and stacks of layers, into a network of neurons. The output of one layer of neurons becomes the input for the next layer. With multiple input units and output units, we now need to express the weights as a matrix.\n",
        "\n",
        "<img src='assets/multilayer_diagram_weights.png' width=450px>\n",
        "\n",
        "In the diagram above, the first layer shown on the bottom are the inputs, understandably called the **input layer**. The middle layer is called the **hidden layer**, and the final layer (on the top) is the **output layer**. We can express this network mathematically with matrices and use matrix multiplication to get linear combinations for each unit in one operation. For example, the hidden layer (comprised of units $h_1$ and $h_2$) can be calculated as follows:\n",
        "\n",
        "$$\n",
        "\\vec{h} = [h_1 \\, h_2] = \n",
        "\\begin{bmatrix}\n",
        "x_1 \\, x_2 \\cdots \\, x_n\n",
        "\\end{bmatrix}\n",
        "\\cdot \n",
        "\\begin{bmatrix}\n",
        "           w_{11} & w_{12} \\\\\n",
        "           w_{21} &w_{22} \\\\\n",
        "           \\vdots &\\vdots \\\\\n",
        "           w_{n1} &w_{n2}\n",
        "\\end{bmatrix}\n",
        "$$\n",
        "\n",
        "The output for this small network is found by treating the hidden layer as inputs for the output unit. The network output is expressed simply as:\n",
        "\n",
        "$$\n",
        "y =  f_2 \\! \\left(\\, f_1 \\! \\left(\\vec{x} \\, \\mathbf{W_1}\\right) \\mathbf{W_2} \\right)\n",
        "$$"
      ]
    },
    {
      "cell_type": "code",
      "metadata": {
        "colab_type": "code",
        "id": "yWRfPCIKkwZb",
        "colab": {}
      },
      "source": [
        "# Set the random seed so things are reproducible\n",
        "tf.random.set_seed(7) \n",
        "\n",
        "# Create 3 random input features\n",
        "features = tf.random.normal((1,3))\n",
        "\n",
        "# Define the size of each layer in our network\n",
        "n_input = features.shape[1]     # Number of input units, must match number of input features\n",
        "n_hidden = 2                    # Number of hidden units \n",
        "n_output = 1                    # Number of output units\n",
        "\n",
        "# Create random weights connecting the inputs to the hidden layer\n",
        "W1 = tf.random.normal((n_input,n_hidden))\n",
        "\n",
        "# Create random weights connecting the hidden layer to the output layer\n",
        "W2 = tf.random.normal((n_hidden, n_output))\n",
        "\n",
        "# Create random bias terms for the hidden and output layers\n",
        "B1 = tf.random.normal((1,n_hidden))\n",
        "B2 = tf.random.normal((1, n_output))"
      ],
      "execution_count": 0,
      "outputs": []
    },
    {
      "cell_type": "markdown",
      "metadata": {
        "colab_type": "text",
        "id": "cCRRqGFik5N8"
      },
      "source": [
        "> **Exercise:** Calculate the output for this multi-layer network using the weights `W1` & `W2`, and the biases, `B1` & `B2`. "
      ]
    },
    {
      "cell_type": "code",
      "metadata": {
        "colab_type": "code",
        "id": "eKKfk_jyk5_n",
        "outputId": "4e34e6fc-203a-4c8e-fc7e-ebaa00738bf4",
        "colab": {
          "base_uri": "https://localhost:8080/",
          "height": 34
        }
      },
      "source": [
        "## Solution\n",
        "h = sigmoid_activation(tf.matmul(features, W1) + B1)\n",
        "output =sigmoid_activation(tf.matmul(h, W2)+B2)\n",
        "\n",
        "print(output)"
      ],
      "execution_count": 28,
      "outputs": [
        {
          "output_type": "stream",
          "text": [
            "tf.Tensor([[0.10678572]], shape=(1, 1), dtype=float32)\n"
          ],
          "name": "stdout"
        }
      ]
    },
    {
      "cell_type": "markdown",
      "metadata": {
        "colab_type": "text",
        "id": "9Q1QzBpFlAFj"
      },
      "source": [
        "If you did this correctly, you should see the output: `tf.Tensor([[0.10678572]], shape=(1, 1), dtype=float32)`\n",
        "\n",
        "The number of hidden units is a parameter of the network, often called a **hyperparameter** to differentiate it from the weights and biases parameters. **As you'll see later when we discuss training a neural network, the more hidden layers and units a network has, the better able it will be able to learn from data and make accurate predictions.**"
      ]
    },
    {
      "cell_type": "markdown",
      "metadata": {
        "id": "PuS0n883V4sP",
        "colab_type": "text"
      },
      "source": [
        "![image.png](data:image/png;base64,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)"
      ]
    },
    {
      "cell_type": "markdown",
      "metadata": {
        "colab_type": "text",
        "id": "qASlsncVlDRi"
      },
      "source": [
        "## NumPy to TensorFlow and Back\n",
        "\n",
        "This is a special bonus section! TensorFlow has a great feature for converting between NumPy's `ndarrays` and its `tf.Tensors`. To create a tensor from a NumPy ndarray, use `tf.convert_to_tensor()`. To convert a tensor to a NumPy array, use the `.numpy()` method. Below are some examples:"
      ]
    },
    {
      "cell_type": "code",
      "metadata": {
        "colab_type": "code",
        "id": "5MHSE0uqlAsS",
        "outputId": "0ecbe040-737d-401e-8529-b89d87335bba",
        "colab": {
          "base_uri": "https://localhost:8080/",
          "height": 101
        }
      },
      "source": [
        "# Set the random seed so things are reproducible\n",
        "tf.random.set_seed(7) \n",
        "\n",
        "a = np.random.rand(4,3)\n",
        "\n",
        "print(type(a))\n",
        "print(a)"
      ],
      "execution_count": 29,
      "outputs": [
        {
          "output_type": "stream",
          "text": [
            "<class 'numpy.ndarray'>\n",
            "[[0.45027788 0.44620802 0.10120831]\n",
            " [0.25790808 0.49933945 0.86914011]\n",
            " [0.15227735 0.46334821 0.90554347]\n",
            " [0.53483529 0.69718562 0.37513458]]\n"
          ],
          "name": "stdout"
        }
      ]
    },
    {
      "cell_type": "code",
      "metadata": {
        "colab_type": "code",
        "id": "VceuFk3GlKKL",
        "outputId": "ea3ff7fd-7336-43a2-8477-c6fc4abd4c86",
        "colab": {
          "base_uri": "https://localhost:8080/",
          "height": 101
        }
      },
      "source": [
        "b = tf.convert_to_tensor(a)\n",
        "\n",
        "print(b)"
      ],
      "execution_count": 30,
      "outputs": [
        {
          "output_type": "stream",
          "text": [
            "tf.Tensor(\n",
            "[[0.45027788 0.44620802 0.10120831]\n",
            " [0.25790808 0.49933945 0.86914011]\n",
            " [0.15227735 0.46334821 0.90554347]\n",
            " [0.53483529 0.69718562 0.37513458]], shape=(4, 3), dtype=float64)\n"
          ],
          "name": "stdout"
        }
      ]
    },
    {
      "cell_type": "code",
      "metadata": {
        "colab_type": "code",
        "id": "QOh6E9SBlMzj",
        "outputId": "3d3b674d-aa32-4bcf-ac1f-f5b16932375f",
        "colab": {
          "base_uri": "https://localhost:8080/",
          "height": 101
        }
      },
      "source": [
        "c = b.numpy()\n",
        "\n",
        "print(type(c))\n",
        "print(c)"
      ],
      "execution_count": 31,
      "outputs": [
        {
          "output_type": "stream",
          "text": [
            "<class 'numpy.ndarray'>\n",
            "[[0.45027788 0.44620802 0.10120831]\n",
            " [0.25790808 0.49933945 0.86914011]\n",
            " [0.15227735 0.46334821 0.90554347]\n",
            " [0.53483529 0.69718562 0.37513458]]\n"
          ],
          "name": "stdout"
        }
      ]
    },
    {
      "cell_type": "markdown",
      "metadata": {
        "colab_type": "text",
        "id": "Ua9iXmXBlP4M"
      },
      "source": [
        "If you change the values of the Tensor, the values of the ndarray will not change, and vice-versa."
      ]
    },
    {
      "cell_type": "code",
      "metadata": {
        "colab_type": "code",
        "id": "BC_O_BcOlTHa",
        "outputId": "45d5544c-1435-4215-ee63-3db6e12efdb5",
        "colab": {
          "base_uri": "https://localhost:8080/",
          "height": 101
        }
      },
      "source": [
        "# Multiply TensorFlow Tensor by 40\n",
        "b = b * 40\n",
        "\n",
        "print(b)"
      ],
      "execution_count": 32,
      "outputs": [
        {
          "output_type": "stream",
          "text": [
            "tf.Tensor(\n",
            "[[18.01111531 17.84832094  4.04833226]\n",
            " [10.31632313 19.97357816 34.76560425]\n",
            " [ 6.09109416 18.53392824 36.2217388 ]\n",
            " [21.39341169 27.88742479 15.0053834 ]], shape=(4, 3), dtype=float64)\n"
          ],
          "name": "stdout"
        }
      ]
    },
    {
      "cell_type": "code",
      "metadata": {
        "colab_type": "code",
        "id": "R1gxSglFlV2R",
        "outputId": "c0b8b1a1-ff00-4725-fc97-d80f6971b9d7",
        "colab": {
          "base_uri": "https://localhost:8080/",
          "height": 84
        }
      },
      "source": [
        "# NumPy array stays the same\n",
        "a"
      ],
      "execution_count": 33,
      "outputs": [
        {
          "output_type": "execute_result",
          "data": {
            "text/plain": [
              "array([[0.45027788, 0.44620802, 0.10120831],\n",
              "       [0.25790808, 0.49933945, 0.86914011],\n",
              "       [0.15227735, 0.46334821, 0.90554347],\n",
              "       [0.53483529, 0.69718562, 0.37513458]])"
            ]
          },
          "metadata": {
            "tags": []
          },
          "execution_count": 33
        }
      ]
    },
    {
      "cell_type": "code",
      "metadata": {
        "colab_type": "code",
        "id": "4tkHnTSbNKdE",
        "outputId": "82131d1f-5d09-43b4-a95e-629e3dcaf295",
        "colab": {
          "base_uri": "https://localhost:8080/",
          "height": 84
        }
      },
      "source": [
        "# NumPy array stays the same\n",
        "c"
      ],
      "execution_count": 34,
      "outputs": [
        {
          "output_type": "execute_result",
          "data": {
            "text/plain": [
              "array([[0.45027788, 0.44620802, 0.10120831],\n",
              "       [0.25790808, 0.49933945, 0.86914011],\n",
              "       [0.15227735, 0.46334821, 0.90554347],\n",
              "       [0.53483529, 0.69718562, 0.37513458]])"
            ]
          },
          "metadata": {
            "tags": []
          },
          "execution_count": 34
        }
      ]
    },
    {
      "cell_type": "code",
      "metadata": {
        "colab_type": "code",
        "id": "z_vdtpxnlYUN",
        "outputId": "2bad7a92-84d5-45a3-dc83-e270becadfb2",
        "colab": {
          "base_uri": "https://localhost:8080/",
          "height": 84
        }
      },
      "source": [
        "# Add 1 to NumPy ndarray\n",
        "a = a + 1\n",
        "\n",
        "print(a)"
      ],
      "execution_count": 35,
      "outputs": [
        {
          "output_type": "stream",
          "text": [
            "[[1.45027788 1.44620802 1.10120831]\n",
            " [1.25790808 1.49933945 1.86914011]\n",
            " [1.15227735 1.46334821 1.90554347]\n",
            " [1.53483529 1.69718562 1.37513458]]\n"
          ],
          "name": "stdout"
        }
      ]
    },
    {
      "cell_type": "code",
      "metadata": {
        "colab_type": "code",
        "id": "sdtiRFFDlblU",
        "outputId": "8ab4a4da-434d-4c18-fd5c-72975f0b392b",
        "colab": {
          "base_uri": "https://localhost:8080/",
          "height": 101
        }
      },
      "source": [
        "# Tensor stays the same\n",
        "print(b)"
      ],
      "execution_count": 36,
      "outputs": [
        {
          "output_type": "stream",
          "text": [
            "tf.Tensor(\n",
            "[[18.01111531 17.84832094  4.04833226]\n",
            " [10.31632313 19.97357816 34.76560425]\n",
            " [ 6.09109416 18.53392824 36.2217388 ]\n",
            " [21.39341169 27.88742479 15.0053834 ]], shape=(4, 3), dtype=float64)\n"
          ],
          "name": "stdout"
        }
      ]
    },
    {
      "cell_type": "code",
      "metadata": {
        "id": "uSJMVnID90yp",
        "colab_type": "code",
        "colab": {
          "base_uri": "https://localhost:8080/",
          "height": 84
        },
        "outputId": "8ef2ccad-6cea-4e8d-939a-edb17cc883d3"
      },
      "source": [
        "# NumPy array stays the same\n",
        "c"
      ],
      "execution_count": 37,
      "outputs": [
        {
          "output_type": "execute_result",
          "data": {
            "text/plain": [
              "array([[0.45027788, 0.44620802, 0.10120831],\n",
              "       [0.25790808, 0.49933945, 0.86914011],\n",
              "       [0.15227735, 0.46334821, 0.90554347],\n",
              "       [0.53483529, 0.69718562, 0.37513458]])"
            ]
          },
          "metadata": {
            "tags": []
          },
          "execution_count": 37
        }
      ]
    }
  ]
}