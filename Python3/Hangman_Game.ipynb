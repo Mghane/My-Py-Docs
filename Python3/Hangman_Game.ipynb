{
  "nbformat": 4,
  "nbformat_minor": 0,
  "metadata": {
    "colab": {
      "name": "Hangman_Game.ipynb",
      "provenance": [],
      "authorship_tag": "ABX9TyMjr0/uwjCFP9cCYcoiG79q",
      "include_colab_link": true
    },
    "kernelspec": {
      "name": "python3",
      "display_name": "Python 3"
    },
    "language_info": {
      "name": "python"
    }
  },
  "cells": [
    {
      "cell_type": "markdown",
      "metadata": {
        "id": "view-in-github",
        "colab_type": "text"
      },
      "source": [
        "<a href=\"https://colab.research.google.com/github/Mghane/My-Py-Docs/blob/master/Hangman_Game.ipynb\" target=\"_parent\"><img src=\"https://colab.research.google.com/assets/colab-badge.svg\" alt=\"Open In Colab\"/></a>"
      ]
    },
    {
      "cell_type": "code",
      "execution_count": null,
      "metadata": {
        "id": "yj2t2xZoRm1L"
      },
      "outputs": [],
      "source": [
        "from google.colab import drive\n",
        "#drive.mount('/content/drive')\n",
        "#drive.flush_and_unmount()"
      ]
    },
    {
      "cell_type": "code",
      "source": [
        "from google.colab import files\n",
        "files.upload()"
      ],
      "metadata": {
        "colab": {
          "resources": {
            "http://localhost:8080/nbextensions/google.colab/files.js": {
              "data": "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",
              "ok": true,
              "headers": [
                [
                  "content-type",
                  "application/javascript"
                ]
              ],
              "status": 200,
              "status_text": "OK"
            }
          },
          "base_uri": "https://localhost:8080/",
          "height": 111
        },
        "id": "OjrWI-VkLH6V",
        "outputId": "7b26aef8-af95-4fd0-fdcc-9341b04c4db6"
      },
      "execution_count": 2,
      "outputs": [
        {
          "output_type": "display_data",
          "data": {
            "text/html": [
              "\n",
              "     <input type=\"file\" id=\"files-4b93a9b6-4a10-49d3-b4fd-86f387160623\" name=\"files[]\" multiple disabled\n",
              "        style=\"border:none\" />\n",
              "     <output id=\"result-4b93a9b6-4a10-49d3-b4fd-86f387160623\">\n",
              "      Upload widget is only available when the cell has been executed in the\n",
              "      current browser session. Please rerun this cell to enable.\n",
              "      </output>\n",
              "      <script src=\"/nbextensions/google.colab/files.js\"></script> "
            ],
            "text/plain": [
              "<IPython.core.display.HTML object>"
            ]
          },
          "metadata": {}
        },
        {
          "output_type": "stream",
          "name": "stdout",
          "text": [
            "Saving hangman_words.py to hangman_words.py\n"
          ]
        },
        {
          "output_type": "execute_result",
          "data": {
            "text/plain": [
              "{'hangman_words.py': b\"word_list = [\\r\\n'abruptly', \\r\\n'absurd', \\r\\n'abyss', \\r\\n'affix', \\r\\n'askew', \\r\\n'avenue', \\r\\n'awkward', \\r\\n'axiom', \\r\\n'azure', \\r\\n'bagpipes', \\r\\n'bandwagon', \\r\\n'banjo', \\r\\n'bayou', \\r\\n'beekeeper', \\r\\n'bikini', \\r\\n'blitz', \\r\\n'blizzard', \\r\\n'boggle', \\r\\n'bookworm', \\r\\n'boxcar', \\r\\n'boxful', \\r\\n'buckaroo', \\r\\n'buffalo', \\r\\n'buffoon', \\r\\n'buxom', \\r\\n'buzzard', \\r\\n'buzzing', \\r\\n'buzzwords', \\r\\n'caliph', \\r\\n'cobweb', \\r\\n'cockiness', \\r\\n'croquet', \\r\\n'crypt', \\r\\n'curacao', \\r\\n'cycle', \\r\\n'daiquiri', \\r\\n'dirndl', \\r\\n'disavow', \\r\\n'dizzying', \\r\\n'duplex', \\r\\n'dwarves', \\r\\n'embezzle', \\r\\n'equip', \\r\\n'espionage', \\r\\n'euouae', \\r\\n'exodus', \\r\\n'faking', \\r\\n'fishhook', \\r\\n'fixable', \\r\\n'fjord', \\r\\n'flapjack', \\r\\n'flopping', \\r\\n'fluffiness', \\r\\n'flyby', \\r\\n'foxglove', \\r\\n'frazzled', \\r\\n'frizzled', \\r\\n'fuchsia', \\r\\n'funny', \\r\\n'gabby', \\r\\n'galaxy', \\r\\n'galvanize', \\r\\n'gazebo', \\r\\n'giaour', \\r\\n'gizmo', \\r\\n'glowworm', \\r\\n'glyph', \\r\\n'gnarly', \\r\\n'gnostic', \\r\\n'gossip', \\r\\n'grogginess', \\r\\n'haiku', \\r\\n'haphazard', \\r\\n'hyphen', \\r\\n'iatrogenic', \\r\\n'icebox', \\r\\n'injury', \\r\\n'ivory', \\r\\n'ivy', \\r\\n'jackpot', \\r\\n'jaundice', \\r\\n'jawbreaker', \\r\\n'jaywalk', \\r\\n'jazziest', \\r\\n'jazzy', \\r\\n'jelly', \\r\\n'jigsaw', \\r\\n'jinx', \\r\\n'jiujitsu', \\r\\n'jockey', \\r\\n'jogging', \\r\\n'joking', \\r\\n'jovial', \\r\\n'joyful', \\r\\n'juicy', \\r\\n'jukebox', \\r\\n'jumbo', \\r\\n'kayak', \\r\\n'kazoo', \\r\\n'keyhole', \\r\\n'khaki', \\r\\n'kilobyte', \\r\\n'kiosk', \\r\\n'kitsch', \\r\\n'kiwifruit', \\r\\n'klutz', \\r\\n'knapsack', \\r\\n'larynx', \\r\\n'lengths', \\r\\n'lucky', \\r\\n'luxury', \\r\\n'lymph', \\r\\n'marquis', \\r\\n'matrix', \\r\\n'megahertz', \\r\\n'microwave', \\r\\n'mnemonic', \\r\\n'mystify', \\r\\n'naphtha', \\r\\n'nightclub', \\r\\n'nowadays', \\r\\n'numbskull', \\r\\n'nymph', \\r\\n'onyx', \\r\\n'ovary', \\r\\n'oxidize', \\r\\n'oxygen', \\r\\n'pajama', \\r\\n'peekaboo', \\r\\n'phlegm', \\r\\n'pixel', \\r\\n'pizazz', \\r\\n'pneumonia', \\r\\n'polka', \\r\\n'pshaw', \\r\\n'psyche', \\r\\n'puppy', \\r\\n'puzzling', \\r\\n'quartz', \\r\\n'queue', \\r\\n'quips', \\r\\n'quixotic', \\r\\n'quiz', \\r\\n'quizzes', \\r\\n'quorum', \\r\\n'razzmatazz', \\r\\n'rhubarb', \\r\\n'rhythm', \\r\\n'rickshaw', \\r\\n'schnapps', \\r\\n'scratch', \\r\\n'shiv', \\r\\n'snazzy', \\r\\n'sphinx', \\r\\n'spritz', \\r\\n'squawk', \\r\\n'staff', \\r\\n'strength', \\r\\n'strengths', \\r\\n'stretch', \\r\\n'stronghold', \\r\\n'stymied', \\r\\n'subway', \\r\\n'swivel', \\r\\n'syndrome', \\r\\n'thriftless', \\r\\n'thumbscrew', \\r\\n'topaz', \\r\\n'transcript', \\r\\n'transgress', \\r\\n'transplant', \\r\\n'triphthong', \\r\\n'twelfth', \\r\\n'twelfths', \\r\\n'unknown', \\r\\n'unworthy', \\r\\n'unzip', \\r\\n'uptown', \\r\\n'vaporize', \\r\\n'vixen', \\r\\n'vodka', \\r\\n'voodoo', \\r\\n'vortex', \\r\\n'voyeurism', \\r\\n'walkway', \\r\\n'waltz', \\r\\n'wave', \\r\\n'wavy', \\r\\n'waxy', \\r\\n'wellspring', \\r\\n'wheezy', \\r\\n'whiskey', \\r\\n'whizzing', \\r\\n'whomever', \\r\\n'wimpy', \\r\\n'witchcraft', \\r\\n'wizard', \\r\\n'woozy', \\r\\n'wristwatch', \\r\\n'wyvern', \\r\\n'xylophone', \\r\\n'yachtsman', \\r\\n'yippee', \\r\\n'yoked', \\r\\n'youthful', \\r\\n'yummy', \\r\\n'zephyr', \\r\\n'zigzag', \\r\\n'zigzagging', \\r\\n'zilch', \\r\\n'zipper', \\r\\n'zodiac', \\r\\n'zombie', \\r\\n]\"}"
            ]
          },
          "metadata": {},
          "execution_count": 2
        }
      ]
    },
    {
      "cell_type": "code",
      "source": [
        "import numpy as np\n",
        "import random\n",
        "import hangman_words"
      ],
      "metadata": {
        "id": "bUAaFC-1SCgl"
      },
      "execution_count": 3,
      "outputs": []
    },
    {
      "cell_type": "code",
      "source": [
        "words = hangman_words.word_list"
      ],
      "metadata": {
        "id": "jFxKalsUITHt"
      },
      "execution_count": 4,
      "outputs": []
    },
    {
      "cell_type": "code",
      "source": [
        "selected_word = random.choice(words).lower()"
      ],
      "metadata": {
        "id": "kLNAESOUciQt"
      },
      "execution_count": 9,
      "outputs": []
    },
    {
      "cell_type": "code",
      "source": [
        "print(selected_word)"
      ],
      "metadata": {
        "colab": {
          "base_uri": "https://localhost:8080/"
        },
        "id": "gaaibUCjcsJ1",
        "outputId": "cd38033d-8a7b-440e-8962-55dbc8b3c48b"
      },
      "execution_count": 11,
      "outputs": [
        {
          "output_type": "stream",
          "name": "stdout",
          "text": [
            "jovial\n"
          ]
        }
      ]
    },
    {
      "cell_type": "code",
      "source": [
        "stages = ['''\n",
        "\n",
        "+---+\n",
        "|   |\n",
        "o   |\n",
        "    |\n",
        "    |\n",
        "    |\n",
        "=====\n",
        "''', '''\n",
        "   +---+\n",
        "  |   |\n",
        "  o   |\n",
        "  |   |\n",
        "      |\n",
        "      |\n",
        "  =====\n",
        "''', '''\n",
        "   +---+\n",
        "  |   |\n",
        "  o   |\n",
        "  |\\  |\n",
        "      |\n",
        "      |\n",
        "  =====\n",
        "''', '''\n",
        "   +---+\n",
        "  |   |\n",
        "  o   |\n",
        " /|\\  |\n",
        "      |\n",
        "      |\n",
        "  =====\n",
        "''', '''\n",
        "   +---+\n",
        "  |   |\n",
        "  o   |\n",
        " /|\\  |\n",
        "   \\  |\n",
        "      |\n",
        "  =====\n",
        "''', '''\n",
        "   +---+\n",
        "  |   |\n",
        "  o   |\n",
        " /|\\  |\n",
        " / \\  |\n",
        "      |\n",
        "  =====\n",
        "  '''          \n",
        "]"
      ],
      "metadata": {
        "id": "wqAficCfx73a"
      },
      "execution_count": 5,
      "outputs": []
    },
    {
      "cell_type": "code",
      "source": [
        "def count_down(count):\n",
        "  print(f\"Oops, wrong guess, be careful as your mistakes cost lives. You have {len(stages)-count-1} trial left\")\n",
        "  print(stages[count])"
      ],
      "metadata": {
        "id": "KyE91RcN0XwF"
      },
      "execution_count": 6,
      "outputs": []
    },
    {
      "cell_type": "code",
      "source": [
        "def check_letter(selected_word, modified_word=[]):\n",
        "\n",
        "  if len(modified_word) == 0 : modified_word = [\"_\"]*len(selected_word)\n",
        "  for i, letter in enumerate(selected_word):\n",
        "    if modified_word[i]==\"_\" and letter== guess:\n",
        "      modified_word[i] = guess\n",
        "  print(modified_word)\n",
        "  return modified_word"
      ],
      "metadata": {
        "id": "6_HE3WB5Vnkm"
      },
      "execution_count": 7,
      "outputs": []
    },
    {
      "cell_type": "code",
      "source": [
        "i =0\n",
        "conti =True\n",
        "while conti:\n",
        "  if i==0: \n",
        "    modified_word = []\n",
        "    count = 0\n",
        "  guess = input(\"Please guess a letter: \",).lower()\n",
        "\n",
        "  if guess in selected_word and guess in modified_word:\n",
        "    print(f'You already guessed {guess} letter before')\n",
        "\n",
        "  modified_word = check_letter(selected_word, modified_word)\n",
        "\n",
        "  if guess not in selected_word:\n",
        "    if count==len(stages)-1:\n",
        "        print(stages[-1])\n",
        "        print('Game Over, you lost all the available lives')\n",
        "        break\n",
        "    count_down(count)\n",
        "    count+=1\n",
        "\n",
        "  conti = \"_\" in modified_word\n",
        "  i+=1\n",
        "  if not conti: print(\"Congradulations!. User Won!\")"
      ],
      "metadata": {
        "colab": {
          "base_uri": "https://localhost:8080/"
        },
        "id": "ss1V2OHVVyoH",
        "outputId": "7fd8c834-88c4-40b1-9186-16e879224b47"
      },
      "execution_count": 13,
      "outputs": [
        {
          "output_type": "stream",
          "name": "stdout",
          "text": [
            "Please guess a letter: a\n",
            "['_', '_', '_', '_', 'a', '_']\n",
            "Please guess a letter: v\n",
            "['_', '_', 'v', '_', 'a', '_']\n",
            "Please guess a letter: t\n",
            "['_', '_', 'v', '_', 'a', '_']\n",
            "Oops, wrong guess, be careful as your mistakes cost lives. You have 5 trial left\n",
            "\n",
            "\n",
            "+---+\n",
            "|   |\n",
            "o   |\n",
            "    |\n",
            "    |\n",
            "    |\n",
            "=====\n",
            "\n",
            "Please guess a letter: i\n",
            "['_', '_', 'v', 'i', 'a', '_']\n",
            "Please guess a letter: o\n",
            "['_', 'o', 'v', 'i', 'a', '_']\n",
            "Please guess a letter: u\n",
            "['_', 'o', 'v', 'i', 'a', '_']\n",
            "Oops, wrong guess, be careful as your mistakes cost lives. You have 4 trial left\n",
            "\n",
            "   +---+\n",
            "  |   |\n",
            "  o   |\n",
            "  |   |\n",
            "      |\n",
            "      |\n",
            "  =====\n",
            "\n",
            "Please guess a letter: p\n",
            "['_', 'o', 'v', 'i', 'a', '_']\n",
            "Oops, wrong guess, be careful as your mistakes cost lives. You have 3 trial left\n",
            "\n",
            "   +---+\n",
            "  |   |\n",
            "  o   |\n",
            "  |\\  |\n",
            "      |\n",
            "      |\n",
            "  =====\n",
            "\n",
            "Please guess a letter: j\n",
            "['j', 'o', 'v', 'i', 'a', '_']\n",
            "Please guess a letter: r\n",
            "['j', 'o', 'v', 'i', 'a', '_']\n",
            "Oops, wrong guess, be careful as your mistakes cost lives. You have 2 trial left\n",
            "\n",
            "   +---+\n",
            "  |   |\n",
            "  o   |\n",
            " /|\\  |\n",
            "      |\n",
            "      |\n",
            "  =====\n",
            "\n",
            "Please guess a letter: l\n",
            "['j', 'o', 'v', 'i', 'a', 'l']\n",
            "User Won!\n"
          ]
        }
      ]
    }
  ]
}
