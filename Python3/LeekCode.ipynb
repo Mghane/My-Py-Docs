{
 "cells": [
  {
   "cell_type": "markdown",
   "metadata": {},
   "source": [
    "Date: september 19,2020"
   ]
  },
  {
   "cell_type": "code",
   "execution_count": null,
   "metadata": {},
   "outputs": [],
   "source": [
    "class Solution:\n",
    "    def isRobotBounded(self, instructions: str) -> bool:\n",
    "        import numpy as np\n",
    "        vector = []\n",
    "        location = [0,0]\n",
    "        theta = 90\n",
    "        move = {'N':[0,1], 'S':[0,-1], 'E':[1,0], 'W':[-1,0]}\n",
    "        face = {90:'N',-270:'N',-90:'S', 270:'S', 0:'E',360:'E',-360:'E', 180:'W',-180:'W'}\n",
    "        ##for i in range(0,2):    \n",
    "        for item in instructions:\n",
    "            if abs(theta)==360: theta = 0\n",
    "            if item == 'L': \n",
    "                theta += 90 ;\n",
    "            elif item == 'R':\n",
    "                theta -= 90 ;\n",
    "            else:\n",
    "                location[0] += move[face[theta]][0]\n",
    "                location[1] += move[face[theta]][1] \n",
    "        conclude = (face[theta]!='N') or (np.sqrt(location[0]**2 + location[1]**2)==0)\n",
    "        return conclude"
   ]
  },
  {
   "cell_type": "code",
   "execution_count": null,
   "metadata": {},
   "outputs": [],
   "source": [
    "Solution.isRobotBounded(0, \"LLL\")"
   ]
  },
  {
   "cell_type": "markdown",
   "metadata": {},
   "source": [
    "Date: september 25,2020"
   ]
  },
  {
   "cell_type": "code",
   "execution_count": null,
   "metadata": {},
   "outputs": [],
   "source": [
    "class Solution:\n",
    "    def largestNumber(self, nums: List[int]) -> str:\n",
    "        output = \"\"\n",
    "        count = 9\n",
    "\n",
    "        while count >= 0 :\n",
    "            remainder = []\n",
    "            sorted_remainder = []\n",
    "\n",
    "            filtered = sorted([x for x in nums if str(x)[0]==str(count)])\n",
    "            if len(filtered) > 0 :\n",
    "                max_length = len(str(max(filtered)))\n",
    "                for num in filtered:    \n",
    "                    remainder.append([str(num), int(str(num) + (max_length - len(str(num)))*str(count))])   \n",
    "\n",
    "                # sort the list\n",
    "                if count !=1:\n",
    "                    sorted_remainder = sorted(remainder, key = lambda x: (-int(x[1]), -int(x[0])))\n",
    "                    \n",
    "                else:\n",
    "                    sorted_remainder = sorted(remainder, key = lambda x: (-int(x[1]), int(x[0])))\n",
    "\n",
    "                # glu numbers together\n",
    "                for i in sorted_remainder:\n",
    "                    output += i[0]\n",
    "\n",
    "            # repeat the loop\n",
    "            count -= 1\n",
    "        \n",
    "        return output if int(output[0]) > 0 else '0'"
   ]
  },
  {
   "cell_type": "code",
   "execution_count": null,
   "metadata": {},
   "outputs": [],
   "source": [
    "nums = [9051,5526,2264,5041,1630,5906,6787,8382,4662,4532,6804,4710,4542,2116,7219,8701,8308,957,8775,4822,396,8995,8597,2304,8902,830,8591,5828,9642,7100,3976,5565,5490,1613,5731,8052,8985,2623,6325,3723,5224,8274,4787,6310,3393,78,3288,7584,7440,5752,351,4555,7265,9959,3866,9854,2709,5817,7272,43,1014,7527,3946,4289,1272,5213,710,1603,2436,8823,5228,2581,771,3700,2109,5638,3402,3910,871,5441,6861,9556,1089,4088,2788,9632,6822,6145,5137,236,683,2869,9525,8161,8374,2439,6028,7813,6406,7519]"
   ]
  },
  {
   "cell_type": "code",
   "execution_count": null,
   "metadata": {},
   "outputs": [],
   "source": [
    "nums = [830,8308]"
   ]
  },
  {
   "cell_type": "code",
   "execution_count": 13,
   "metadata": {},
   "outputs": [],
   "source": [
    "nums = [121,12]"
   ]
  },
  {
   "cell_type": "code",
   "execution_count": 14,
   "metadata": {},
   "outputs": [
    {
     "data": {
      "text/plain": [
       "'12121'"
      ]
     },
     "execution_count": 14,
     "metadata": {},
     "output_type": "execute_result"
    }
   ],
   "source": [
    "## Learned method\n",
    "snums = list(map(str, nums))\n",
    "def comparator(x,y):\n",
    "    if x+y < y+x:\n",
    "        return 1\n",
    "    elif x+y > y+x:\n",
    "        return -1\n",
    "    else: 0\n",
    "        \n",
    "from functools import cmp_to_key  ## Higher-order functions and operations on callable objects\n",
    "\"\".join(sorted(snums, key=cmp_to_key(comparator)))"
   ]
  },
  {
   "cell_type": "markdown",
   "metadata": {},
   "source": [
    "### Website solution\n",
    "Approach #1 Sorting via Custom Comparator [Accepted]\n",
    "Intuition\n",
    "\n",
    "To construct the largest number, we want to ensure that the most significant digits are occupied by the largest digits.\n",
    "\n",
    "Algorithm\n",
    "\n",
    "First, we convert each integer to a string. Then, we sort the array of strings.\n",
    "\n",
    "While it might be tempting to simply sort the numbers in descending order, this causes problems for sets of numbers with the same leading digit. For example, sorting the problem example in descending order would produce the number 95343039534303, while the correct answer can be achieved by transposing the 33 and the 3030. Therefore, for each pairwise comparison during the sort, we compare the numbers achieved by concatenating the pair in both orders. We can prove that this sorts into the proper order as follows:\n",
    "\n",
    "Assume that (without loss of generality), for some pair of integers aa and bb, our comparator dictates that aa should precede bb in sorted order. This means that a\\frown b > b\\frown aa⌢b>b⌢a (where \\frown⌢ represents concatenation). For the sort to produce an incorrect ordering, there must be some cc for which bb precedes cc and cc precedes aa. This is a contradiction because a\\frown b > b\\frown aa⌢b>b⌢a and b\\frown c > c\\frown bb⌢c>c⌢b implies a\\frown c > c\\frown aa⌢c>c⌢a. In other words, our custom comparator preserves transitivity, so the sort is correct.\n",
    "\n",
    "Once the array is sorted, the most \"signficant\" number will be at the front. There is a minor edge case that comes up when the array consists of only zeroes, so if the most significant number is 00, we can simply return 00. Otherwise, we build a string out of the sorted array and return it."
   ]
  },
  {
   "cell_type": "code",
   "execution_count": null,
   "metadata": {},
   "outputs": [],
   "source": [
    "class LargerNumKey(str):\n",
    "    def __lt__(x, y):\n",
    "        return x+y > y+x\n",
    "        \n",
    "class Solution:\n",
    "    def largestNumber(self, nums):\n",
    "        largest_num = ''.join(sorted(map(str, nums), key=LargerNumKey))\n",
    "        return '0' if largest_num[0] == '0' else largest_num"
   ]
  },
  {
   "cell_type": "markdown",
   "metadata": {},
   "source": [
    "#### Context 26 Sep 2020, Q2"
   ]
  },
  {
   "cell_type": "code",
   "execution_count": null,
   "metadata": {},
   "outputs": [],
   "source": [
    "class Solution:\n",
    "    def minOperationsMaxProfit(self, customers: List[int], boardingCost: int, runningCost: int) -> int:\n",
    "        profits = []\n",
    "        cumwait = 0\n",
    "        cumboard = 0\n",
    "        cumrotate = 0\n",
    "        totalwait=0\n",
    "\n",
    "        if sum(customers)//4 !=0 : \n",
    "            extra = 1 \n",
    "        else: \n",
    "            extra = 0\n",
    "\n",
    "        if sum(customers) > len(customers) * 4 : \n",
    "            rounds = (sum(customers)//4 + extra) \n",
    "        else: \n",
    "            rounds = len(customers); \n",
    "\n",
    "        if len(customers)>=rounds: \n",
    "            for i in range(rounds):\n",
    "                wait = customers[i] - 4\n",
    "\n",
    "                if i==0 and totalwait<0: totalwait=0\n",
    "                available = customers[i] + totalwait\n",
    "                if available > 4 : \n",
    "                    board = customers[i] - totalwait\n",
    "                else: \n",
    "                    board = customers[i] + totalwait\n",
    "                    totalwait = 0\n",
    "\n",
    "                cumboard +=board\n",
    "\n",
    "                profit = cumboard * boardingCost - (i+1) * runningCost\n",
    "                profits.append(profit)\n",
    "                '''print('{}. {} customers arrive, {} board and {} wait for the next gondola, \\\n",
    "                      the wheel rotates. Current profit is ${}.'.format(i+1,customers[i],cumboard,totalwait,\n",
    "                      profit))'''\n",
    "        else:\n",
    "            new_list =[]\n",
    "            cumremainder = 0\n",
    "            for item in customers:\n",
    "                if item + cumremainder<=4:\n",
    "                    new_list.append(item + cumremainder)\n",
    "                    cumremainder = 0\n",
    "                else:\n",
    "                    new_list.append(4)\n",
    "                    cumremainder += item - 4\n",
    "            if cumremainder>0: \n",
    "                new_list.extend([4 for j in range(cumremainder//4)])\n",
    "                new_list.append(cumremainder%4)\n",
    "\n",
    "            cumboard=0\n",
    "            for i, x in enumerate(new_list):\n",
    "                cumboard += x\n",
    "                profit = cumboard * boardingCost - (i+1) * runningCost\n",
    "                profits.append(profit)\n",
    "                '''print('{}. {} customers arrive, {} board, \\\n",
    "                      the wheel rotates. Current profit is ${}.'.format(i+1,new_list[i],cumboard,\n",
    "                      profit))  '''\n",
    "        return profits.index(max(profits))+1 if max(profits)>0 else -1"
   ]
  },
  {
   "cell_type": "markdown",
   "metadata": {},
   "source": [
    "#### Date: september 27,2020"
   ]
  },
  {
   "cell_type": "code",
   "execution_count": 7,
   "metadata": {},
   "outputs": [],
   "source": [
    "equations = [[\"a\",\"b\"],[\"b\",\"c\"]]\n",
    "values = [2.0,3.0] \n",
    "queries = [[\"a\",\"c\"],[\"b\",\"a\"],[\"a\",\"e\"],[\"a\",\"a\"],[\"x\",\"x\"]]"
   ]
  },
  {
   "cell_type": "code",
   "execution_count": 67,
   "metadata": {},
   "outputs": [],
   "source": [
    "equations =[[\"a\",\"b\"],[\"b\",\"c\"],[\"bc\",\"cd\"]]\n",
    "values = [1.5,2.5,5.0]\n",
    "queries = [[\"a\",\"c\"],[\"c\",\"b\"],[\"bc\",\"cd\"],[\"cd\",\"bc\"]]"
   ]
  },
  {
   "cell_type": "code",
   "execution_count": 86,
   "metadata": {},
   "outputs": [],
   "source": [
    "equations = [[\"a\",\"b\"],[\"c\",\"d\"]]\n",
    "values = [1.0,1.0]\n",
    "queries = [[\"a\",\"c\"],[\"b\",\"d\"],[\"b\",\"a\"],[\"d\",\"c\"]]"
   ]
  },
  {
   "cell_type": "code",
   "execution_count": 90,
   "metadata": {},
   "outputs": [],
   "source": [
    "class Solution:\n",
    "    def calcEquation(self, equations: List[List[str]], values: List[float], queries: List[List[str]]) -> List[float]:\n",
    "        index =0\n",
    "        names={}\n",
    "        for x, y in equations:\n",
    "            if x not in names:\n",
    "                names[x]  = index\n",
    "                index+=1\n",
    "            if y not in names:\n",
    "                names[y] = index\n",
    "                index+=1\n",
    "        N = len(names)\n",
    "        g = [[None]*N for _ in range(N)]\n",
    "\n",
    "        for i, (x,y) in enumerate(equations):\n",
    "            g[names[x]][names[y]] = values[i]\n",
    "            g[names[y]][names[x]] = 1/values[i]\n",
    "\n",
    "        #floyd Warshall algorithm\n",
    "        for k in range(N):\n",
    "            for i in range(N):\n",
    "                for j in range(N):\n",
    "                    if g[i][k] is not None and g[k][j] is not None:\n",
    "                        g[i][j] = g[i][k] * g[k][j]\n",
    "\n",
    "        result =[]\n",
    "        for item in queries:\n",
    "            if item[0] not in names or item[1] not in names:\n",
    "                result.append(-1)\n",
    "            else:\n",
    "                result.append(g[names[item[0]]][names[item[1]]])\n",
    "        return [-1 if x==None else x for x in result]"
   ]
  },
  {
   "cell_type": "markdown",
   "metadata": {},
   "source": [
    "#### Date: september 27,2020"
   ]
  },
  {
   "cell_type": "code",
   "execution_count": 11,
   "metadata": {},
   "outputs": [],
   "source": [
    "s = \"a\"\n",
    "t = \"aa\""
   ]
  },
  {
   "cell_type": "code",
   "execution_count": 23,
   "metadata": {},
   "outputs": [
    {
     "name": "stdout",
     "output_type": "stream",
     "text": [
      "a\n"
     ]
    }
   ],
   "source": [
    "s_list = [x for x in s]\n",
    "t_list = [x for x in t]\n",
    "s_counts = dict((i, s_list.count(i)) for i in s_list)\n",
    "t_counts = dict((i, t_list.count(i)) for i in t_list)\n",
    "difference = [x for x in t_counts.items() if x not in s_counts.items()]\n",
    "print(difference[0][0]) "
   ]
  },
  {
   "cell_type": "code",
   "execution_count": null,
   "metadata": {},
   "outputs": [],
   "source": []
  },
  {
   "cell_type": "code",
   "execution_count": null,
   "metadata": {},
   "outputs": [],
   "source": []
  },
  {
   "cell_type": "code",
   "execution_count": null,
   "metadata": {},
   "outputs": [],
   "source": []
  }
 ],
 "metadata": {
  "kernelspec": {
   "display_name": "Python 3",
   "language": "python",
   "name": "python3"
  },
  "language_info": {
   "codemirror_mode": {
    "name": "ipython",
    "version": 3
   },
   "file_extension": ".py",
   "mimetype": "text/x-python",
   "name": "python",
   "nbconvert_exporter": "python",
   "pygments_lexer": "ipython3",
   "version": "3.7.6"
  }
 },
 "nbformat": 4,
 "nbformat_minor": 4
}
