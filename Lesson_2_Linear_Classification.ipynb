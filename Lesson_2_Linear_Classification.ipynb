{
  "nbformat": 4,
  "nbformat_minor": 0,
  "metadata": {
    "colab": {
      "name": "Lesson_2. Linear Classification.ipynb",
      "provenance": [],
      "collapsed_sections": [],
      "authorship_tag": "ABX9TyO7pUoFiWVybHi2E/P4YrE4",
      "include_colab_link": true
    },
    "kernelspec": {
      "name": "python3",
      "display_name": "Python 3"
    }
  },
  "cells": [
    {
      "cell_type": "markdown",
      "metadata": {
        "id": "view-in-github",
        "colab_type": "text"
      },
      "source": [
        "<a href=\"https://colab.research.google.com/github/Mghane/My-Py-Docs/blob/master/Lesson_2_Linear_Classification.ipynb\" target=\"_parent\"><img src=\"https://colab.research.google.com/assets/colab-badge.svg\" alt=\"Open In Colab\"/></a>"
      ]
    },
    {
      "cell_type": "code",
      "metadata": {
        "id": "8M_xehsNR3u1"
      },
      "source": [
        "# insallation\n",
        "\n",
        "%matplotlib inline\n",
        "%config InlineBackend.figure_format = 'retina'\n",
        "\n",
        "import numpy as np\n",
        "import matplotlib.pyplot as plt\n",
        "import tensorflow as tf"
      ],
      "execution_count": 1,
      "outputs": []
    },
    {
      "cell_type": "code",
      "metadata": {
        "id": "QNZjwh5CUdE-"
      },
      "source": [
        "import logging\n",
        "logger = tf.get_logger()\n",
        "logger.setLevel(logging.ERROR) ## again to prevent too many warning"
      ],
      "execution_count": 2,
      "outputs": []
    },
    {
      "cell_type": "code",
      "metadata": {
        "id": "dtw01ifXSIvk",
        "outputId": "43abbc84-2e5d-470b-ff60-c1f31d6a8fee",
        "colab": {
          "base_uri": "https://localhost:8080/",
          "height": 35
        }
      },
      "source": [
        "tf.__version__"
      ],
      "execution_count": 3,
      "outputs": [
        {
          "output_type": "execute_result",
          "data": {
            "application/vnd.google.colaboratory.intrinsic+json": {
              "type": "string"
            },
            "text/plain": [
              "'2.3.0'"
            ]
          },
          "metadata": {
            "tags": []
          },
          "execution_count": 3
        }
      ]
    },
    {
      "cell_type": "code",
      "metadata": {
        "id": "4GZRXST6SODD"
      },
      "source": [
        "# load data\n",
        "from sklearn.datasets import load_breast_cancer"
      ],
      "execution_count": 4,
      "outputs": []
    },
    {
      "cell_type": "code",
      "metadata": {
        "id": "HSTHaSyaSYMS"
      },
      "source": [
        "df = load_breast_cancer()"
      ],
      "execution_count": 5,
      "outputs": []
    },
    {
      "cell_type": "code",
      "metadata": {
        "id": "5H9EmojDo0eL",
        "outputId": "ce644fde-d5e6-4edc-cbaa-5b4ba0f9e342",
        "colab": {
          "base_uri": "https://localhost:8080/",
          "height": 54
        }
      },
      "source": [
        "df.keys()"
      ],
      "execution_count": 6,
      "outputs": [
        {
          "output_type": "execute_result",
          "data": {
            "text/plain": [
              "dict_keys(['data', 'target', 'target_names', 'DESCR', 'feature_names', 'filename'])"
            ]
          },
          "metadata": {
            "tags": []
          },
          "execution_count": 6
        }
      ]
    },
    {
      "cell_type": "code",
      "metadata": {
        "id": "HK-T4uGESb9M",
        "outputId": "ec14376b-a30d-4cf0-f28d-849a642f35e6",
        "colab": {
          "base_uri": "https://localhost:8080/",
          "height": 34
        }
      },
      "source": [
        "df.data.shape"
      ],
      "execution_count": 7,
      "outputs": [
        {
          "output_type": "execute_result",
          "data": {
            "text/plain": [
              "(569, 30)"
            ]
          },
          "metadata": {
            "tags": []
          },
          "execution_count": 7
        }
      ]
    },
    {
      "cell_type": "code",
      "metadata": {
        "id": "ZbjSk_kIsUdp"
      },
      "source": [
        "# scaling the data\n",
        "from sklearn.preprocessing import StandardScaler"
      ],
      "execution_count": 8,
      "outputs": []
    },
    {
      "cell_type": "code",
      "metadata": {
        "id": "hVqp2QYwsmUl"
      },
      "source": [
        "scaler = StandardScaler()\n",
        "scaled_df = scaler.fit_transform(df.data)"
      ],
      "execution_count": 9,
      "outputs": []
    },
    {
      "cell_type": "code",
      "metadata": {
        "id": "XjNeGXk0rPFP"
      },
      "source": [
        "from sklearn.model_selection import train_test_split"
      ],
      "execution_count": 10,
      "outputs": []
    },
    {
      "cell_type": "code",
      "metadata": {
        "id": "fEckQ76KraMz"
      },
      "source": [
        "X_train, X_test, y_train, y_test = train_test_split(scaled_df, df.target, test_size=0.33, random_state=42)"
      ],
      "execution_count": 11,
      "outputs": []
    },
    {
      "cell_type": "code",
      "metadata": {
        "id": "TzxtPgznraPg",
        "outputId": "62d84a17-1917-4113-ee70-263bffadc655",
        "colab": {
          "base_uri": "https://localhost:8080/",
          "height": 34
        }
      },
      "source": [
        "len(X_test), len(X_train)"
      ],
      "execution_count": 12,
      "outputs": [
        {
          "output_type": "execute_result",
          "data": {
            "text/plain": [
              "(188, 381)"
            ]
          },
          "metadata": {
            "tags": []
          },
          "execution_count": 12
        }
      ]
    },
    {
      "cell_type": "code",
      "metadata": {
        "id": "a07TLcazu6Q8"
      },
      "source": [
        "D, N = X_train.shape"
      ],
      "execution_count": 13,
      "outputs": []
    },
    {
      "cell_type": "code",
      "metadata": {
        "id": "dwAPATEYygA6",
        "outputId": "f62e2db9-7b99-4334-a79c-faba15c366d6",
        "colab": {
          "base_uri": "https://localhost:8080/",
          "height": 34
        }
      },
      "source": [
        "D , N"
      ],
      "execution_count": 14,
      "outputs": [
        {
          "output_type": "execute_result",
          "data": {
            "text/plain": [
              "(381, 30)"
            ]
          },
          "metadata": {
            "tags": []
          },
          "execution_count": 14
        }
      ]
    },
    {
      "cell_type": "code",
      "metadata": {
        "id": "1JJdqVVAwICs"
      },
      "source": [
        "# to reset the dense layer numbers if there are any already\n",
        "from keras import backend as K\n",
        "K.clear_session()"
      ],
      "execution_count": 15,
      "outputs": []
    },
    {
      "cell_type": "code",
      "metadata": {
        "id": "1SPWNb43Scqu",
        "outputId": "fbb4cdfc-f7c9-4c41-8436-01e006342167",
        "colab": {
          "base_uri": "https://localhost:8080/",
          "height": 185
        }
      },
      "source": [
        "model = tf.keras.models.Sequential([\n",
        "        tf.keras.layers.Input(shape=( D,N)),\n",
        "        #tf.keras.layers.Dense(100, activation = 'sigmoid'),\n",
        "        tf.keras.layers.Dense(1, activation = 'sigmoid'),                              \n",
        "        ])\n",
        "model.summary()"
      ],
      "execution_count": 16,
      "outputs": [
        {
          "output_type": "stream",
          "text": [
            "Model: \"sequential\"\n",
            "_________________________________________________________________\n",
            "Layer (type)                 Output Shape              Param #   \n",
            "=================================================================\n",
            "dense (Dense)                (None, 381, 1)            31        \n",
            "=================================================================\n",
            "Total params: 31\n",
            "Trainable params: 31\n",
            "Non-trainable params: 0\n",
            "_________________________________________________________________\n"
          ],
          "name": "stdout"
        }
      ]
    },
    {
      "cell_type": "code",
      "metadata": {
        "id": "1NmFvOfUvpYb"
      },
      "source": [
        "model.compile(optimizer='Adam', loss='binary_crossentropy', \n",
        "              metrics = 'accuracy')"
      ],
      "execution_count": 17,
      "outputs": []
    },
    {
      "cell_type": "code",
      "metadata": {
        "id": "6R7zAPJgvpnE",
        "outputId": "ee35c779-726c-4042-c8c2-ab03911b2226",
        "colab": {
          "base_uri": "https://localhost:8080/",
          "height": 1000
        }
      },
      "source": [
        "EPOCHS = 100\n",
        "history = model.fit(X_train,y_train, validation_data=(X_test, y_test), \n",
        "          epochs=EPOCHS)"
      ],
      "execution_count": 18,
      "outputs": [
        {
          "output_type": "stream",
          "text": [
            "Epoch 1/100\n",
            "12/12 [==============================] - 0s 14ms/step - loss: 1.0668 - accuracy: 0.3097 - val_loss: 0.9861 - val_accuracy: 0.3032\n",
            "Epoch 2/100\n",
            "12/12 [==============================] - 0s 3ms/step - loss: 0.9738 - accuracy: 0.3753 - val_loss: 0.9021 - val_accuracy: 0.3670\n",
            "Epoch 3/100\n",
            "12/12 [==============================] - 0s 3ms/step - loss: 0.8897 - accuracy: 0.4462 - val_loss: 0.8270 - val_accuracy: 0.4787\n",
            "Epoch 4/100\n",
            "12/12 [==============================] - 0s 3ms/step - loss: 0.8137 - accuracy: 0.5197 - val_loss: 0.7614 - val_accuracy: 0.5532\n",
            "Epoch 5/100\n",
            "12/12 [==============================] - 0s 3ms/step - loss: 0.7491 - accuracy: 0.5774 - val_loss: 0.7031 - val_accuracy: 0.6330\n",
            "Epoch 6/100\n",
            "12/12 [==============================] - 0s 3ms/step - loss: 0.6884 - accuracy: 0.6483 - val_loss: 0.6543 - val_accuracy: 0.6543\n",
            "Epoch 7/100\n",
            "12/12 [==============================] - 0s 3ms/step - loss: 0.6371 - accuracy: 0.7113 - val_loss: 0.6118 - val_accuracy: 0.6862\n",
            "Epoch 8/100\n",
            "12/12 [==============================] - 0s 3ms/step - loss: 0.5933 - accuracy: 0.7402 - val_loss: 0.5740 - val_accuracy: 0.7074\n",
            "Epoch 9/100\n",
            "12/12 [==============================] - 0s 3ms/step - loss: 0.5541 - accuracy: 0.7717 - val_loss: 0.5410 - val_accuracy: 0.7234\n",
            "Epoch 10/100\n",
            "12/12 [==============================] - 0s 3ms/step - loss: 0.5205 - accuracy: 0.8005 - val_loss: 0.5118 - val_accuracy: 0.7553\n",
            "Epoch 11/100\n",
            "12/12 [==============================] - 0s 2ms/step - loss: 0.4902 - accuracy: 0.8189 - val_loss: 0.4866 - val_accuracy: 0.7926\n",
            "Epoch 12/100\n",
            "12/12 [==============================] - 0s 3ms/step - loss: 0.4640 - accuracy: 0.8268 - val_loss: 0.4644 - val_accuracy: 0.8085\n",
            "Epoch 13/100\n",
            "12/12 [==============================] - 0s 3ms/step - loss: 0.4412 - accuracy: 0.8399 - val_loss: 0.4440 - val_accuracy: 0.8404\n",
            "Epoch 14/100\n",
            "12/12 [==============================] - 0s 2ms/step - loss: 0.4208 - accuracy: 0.8504 - val_loss: 0.4255 - val_accuracy: 0.8457\n",
            "Epoch 15/100\n",
            "12/12 [==============================] - 0s 3ms/step - loss: 0.4027 - accuracy: 0.8661 - val_loss: 0.4084 - val_accuracy: 0.8457\n",
            "Epoch 16/100\n",
            "12/12 [==============================] - 0s 2ms/step - loss: 0.3855 - accuracy: 0.8766 - val_loss: 0.3931 - val_accuracy: 0.8617\n",
            "Epoch 17/100\n",
            "12/12 [==============================] - 0s 3ms/step - loss: 0.3700 - accuracy: 0.8845 - val_loss: 0.3796 - val_accuracy: 0.8670\n",
            "Epoch 18/100\n",
            "12/12 [==============================] - 0s 3ms/step - loss: 0.3567 - accuracy: 0.8898 - val_loss: 0.3664 - val_accuracy: 0.8830\n",
            "Epoch 19/100\n",
            "12/12 [==============================] - 0s 3ms/step - loss: 0.3435 - accuracy: 0.8950 - val_loss: 0.3547 - val_accuracy: 0.8989\n",
            "Epoch 20/100\n",
            "12/12 [==============================] - 0s 3ms/step - loss: 0.3319 - accuracy: 0.9055 - val_loss: 0.3435 - val_accuracy: 0.8989\n",
            "Epoch 21/100\n",
            "12/12 [==============================] - 0s 3ms/step - loss: 0.3208 - accuracy: 0.9108 - val_loss: 0.3331 - val_accuracy: 0.8989\n",
            "Epoch 22/100\n",
            "12/12 [==============================] - 0s 3ms/step - loss: 0.3110 - accuracy: 0.9108 - val_loss: 0.3232 - val_accuracy: 0.8989\n",
            "Epoch 23/100\n",
            "12/12 [==============================] - 0s 3ms/step - loss: 0.3012 - accuracy: 0.9134 - val_loss: 0.3143 - val_accuracy: 0.8989\n",
            "Epoch 24/100\n",
            "12/12 [==============================] - 0s 2ms/step - loss: 0.2923 - accuracy: 0.9134 - val_loss: 0.3059 - val_accuracy: 0.9149\n",
            "Epoch 25/100\n",
            "12/12 [==============================] - 0s 3ms/step - loss: 0.2841 - accuracy: 0.9134 - val_loss: 0.2979 - val_accuracy: 0.9149\n",
            "Epoch 26/100\n",
            "12/12 [==============================] - 0s 3ms/step - loss: 0.2764 - accuracy: 0.9160 - val_loss: 0.2901 - val_accuracy: 0.9149\n",
            "Epoch 27/100\n",
            "12/12 [==============================] - 0s 3ms/step - loss: 0.2689 - accuracy: 0.9186 - val_loss: 0.2831 - val_accuracy: 0.9255\n",
            "Epoch 28/100\n",
            "12/12 [==============================] - 0s 3ms/step - loss: 0.2620 - accuracy: 0.9186 - val_loss: 0.2763 - val_accuracy: 0.9309\n",
            "Epoch 29/100\n",
            "12/12 [==============================] - 0s 3ms/step - loss: 0.2554 - accuracy: 0.9186 - val_loss: 0.2700 - val_accuracy: 0.9309\n",
            "Epoch 30/100\n",
            "12/12 [==============================] - 0s 3ms/step - loss: 0.2493 - accuracy: 0.9213 - val_loss: 0.2638 - val_accuracy: 0.9362\n",
            "Epoch 31/100\n",
            "12/12 [==============================] - 0s 3ms/step - loss: 0.2434 - accuracy: 0.9239 - val_loss: 0.2581 - val_accuracy: 0.9362\n",
            "Epoch 32/100\n",
            "12/12 [==============================] - 0s 3ms/step - loss: 0.2380 - accuracy: 0.9265 - val_loss: 0.2524 - val_accuracy: 0.9362\n",
            "Epoch 33/100\n",
            "12/12 [==============================] - 0s 3ms/step - loss: 0.2327 - accuracy: 0.9291 - val_loss: 0.2472 - val_accuracy: 0.9362\n",
            "Epoch 34/100\n",
            "12/12 [==============================] - 0s 3ms/step - loss: 0.2277 - accuracy: 0.9318 - val_loss: 0.2421 - val_accuracy: 0.9362\n",
            "Epoch 35/100\n",
            "12/12 [==============================] - 0s 3ms/step - loss: 0.2228 - accuracy: 0.9318 - val_loss: 0.2373 - val_accuracy: 0.9362\n",
            "Epoch 36/100\n",
            "12/12 [==============================] - 0s 3ms/step - loss: 0.2183 - accuracy: 0.9318 - val_loss: 0.2327 - val_accuracy: 0.9362\n",
            "Epoch 37/100\n",
            "12/12 [==============================] - 0s 3ms/step - loss: 0.2139 - accuracy: 0.9370 - val_loss: 0.2283 - val_accuracy: 0.9362\n",
            "Epoch 38/100\n",
            "12/12 [==============================] - 0s 3ms/step - loss: 0.2100 - accuracy: 0.9396 - val_loss: 0.2241 - val_accuracy: 0.9362\n",
            "Epoch 39/100\n",
            "12/12 [==============================] - 0s 3ms/step - loss: 0.2060 - accuracy: 0.9423 - val_loss: 0.2202 - val_accuracy: 0.9362\n",
            "Epoch 40/100\n",
            "12/12 [==============================] - 0s 3ms/step - loss: 0.2022 - accuracy: 0.9449 - val_loss: 0.2163 - val_accuracy: 0.9362\n",
            "Epoch 41/100\n",
            "12/12 [==============================] - 0s 3ms/step - loss: 0.1987 - accuracy: 0.9475 - val_loss: 0.2125 - val_accuracy: 0.9362\n",
            "Epoch 42/100\n",
            "12/12 [==============================] - 0s 3ms/step - loss: 0.1952 - accuracy: 0.9475 - val_loss: 0.2090 - val_accuracy: 0.9415\n",
            "Epoch 43/100\n",
            "12/12 [==============================] - 0s 3ms/step - loss: 0.1919 - accuracy: 0.9475 - val_loss: 0.2056 - val_accuracy: 0.9415\n",
            "Epoch 44/100\n",
            "12/12 [==============================] - 0s 3ms/step - loss: 0.1887 - accuracy: 0.9501 - val_loss: 0.2023 - val_accuracy: 0.9415\n",
            "Epoch 45/100\n",
            "12/12 [==============================] - 0s 3ms/step - loss: 0.1858 - accuracy: 0.9501 - val_loss: 0.1991 - val_accuracy: 0.9468\n",
            "Epoch 46/100\n",
            "12/12 [==============================] - 0s 3ms/step - loss: 0.1830 - accuracy: 0.9501 - val_loss: 0.1959 - val_accuracy: 0.9468\n",
            "Epoch 47/100\n",
            "12/12 [==============================] - 0s 3ms/step - loss: 0.1801 - accuracy: 0.9501 - val_loss: 0.1930 - val_accuracy: 0.9468\n",
            "Epoch 48/100\n",
            "12/12 [==============================] - 0s 3ms/step - loss: 0.1774 - accuracy: 0.9501 - val_loss: 0.1903 - val_accuracy: 0.9468\n",
            "Epoch 49/100\n",
            "12/12 [==============================] - 0s 4ms/step - loss: 0.1749 - accuracy: 0.9501 - val_loss: 0.1875 - val_accuracy: 0.9468\n",
            "Epoch 50/100\n",
            "12/12 [==============================] - 0s 3ms/step - loss: 0.1724 - accuracy: 0.9501 - val_loss: 0.1849 - val_accuracy: 0.9468\n",
            "Epoch 51/100\n",
            "12/12 [==============================] - 0s 3ms/step - loss: 0.1700 - accuracy: 0.9528 - val_loss: 0.1823 - val_accuracy: 0.9468\n",
            "Epoch 52/100\n",
            "12/12 [==============================] - 0s 3ms/step - loss: 0.1679 - accuracy: 0.9528 - val_loss: 0.1798 - val_accuracy: 0.9468\n",
            "Epoch 53/100\n",
            "12/12 [==============================] - 0s 3ms/step - loss: 0.1656 - accuracy: 0.9528 - val_loss: 0.1774 - val_accuracy: 0.9468\n",
            "Epoch 54/100\n",
            "12/12 [==============================] - 0s 3ms/step - loss: 0.1636 - accuracy: 0.9554 - val_loss: 0.1750 - val_accuracy: 0.9521\n",
            "Epoch 55/100\n",
            "12/12 [==============================] - 0s 3ms/step - loss: 0.1615 - accuracy: 0.9554 - val_loss: 0.1729 - val_accuracy: 0.9521\n",
            "Epoch 56/100\n",
            "12/12 [==============================] - 0s 3ms/step - loss: 0.1595 - accuracy: 0.9554 - val_loss: 0.1706 - val_accuracy: 0.9521\n",
            "Epoch 57/100\n",
            "12/12 [==============================] - 0s 3ms/step - loss: 0.1576 - accuracy: 0.9554 - val_loss: 0.1686 - val_accuracy: 0.9521\n",
            "Epoch 58/100\n",
            "12/12 [==============================] - 0s 3ms/step - loss: 0.1558 - accuracy: 0.9554 - val_loss: 0.1665 - val_accuracy: 0.9521\n",
            "Epoch 59/100\n",
            "12/12 [==============================] - 0s 3ms/step - loss: 0.1541 - accuracy: 0.9554 - val_loss: 0.1645 - val_accuracy: 0.9574\n",
            "Epoch 60/100\n",
            "12/12 [==============================] - 0s 3ms/step - loss: 0.1524 - accuracy: 0.9554 - val_loss: 0.1625 - val_accuracy: 0.9574\n",
            "Epoch 61/100\n",
            "12/12 [==============================] - 0s 3ms/step - loss: 0.1507 - accuracy: 0.9554 - val_loss: 0.1607 - val_accuracy: 0.9574\n",
            "Epoch 62/100\n",
            "12/12 [==============================] - 0s 3ms/step - loss: 0.1492 - accuracy: 0.9580 - val_loss: 0.1589 - val_accuracy: 0.9574\n",
            "Epoch 63/100\n",
            "12/12 [==============================] - 0s 3ms/step - loss: 0.1475 - accuracy: 0.9580 - val_loss: 0.1571 - val_accuracy: 0.9628\n",
            "Epoch 64/100\n",
            "12/12 [==============================] - 0s 3ms/step - loss: 0.1461 - accuracy: 0.9554 - val_loss: 0.1554 - val_accuracy: 0.9628\n",
            "Epoch 65/100\n",
            "12/12 [==============================] - 0s 3ms/step - loss: 0.1446 - accuracy: 0.9554 - val_loss: 0.1538 - val_accuracy: 0.9628\n",
            "Epoch 66/100\n",
            "12/12 [==============================] - 0s 3ms/step - loss: 0.1432 - accuracy: 0.9554 - val_loss: 0.1522 - val_accuracy: 0.9628\n",
            "Epoch 67/100\n",
            "12/12 [==============================] - 0s 3ms/step - loss: 0.1418 - accuracy: 0.9554 - val_loss: 0.1507 - val_accuracy: 0.9628\n",
            "Epoch 68/100\n",
            "12/12 [==============================] - 0s 3ms/step - loss: 0.1405 - accuracy: 0.9554 - val_loss: 0.1491 - val_accuracy: 0.9628\n",
            "Epoch 69/100\n",
            "12/12 [==============================] - 0s 3ms/step - loss: 0.1392 - accuracy: 0.9554 - val_loss: 0.1475 - val_accuracy: 0.9628\n",
            "Epoch 70/100\n",
            "12/12 [==============================] - 0s 3ms/step - loss: 0.1379 - accuracy: 0.9554 - val_loss: 0.1462 - val_accuracy: 0.9628\n",
            "Epoch 71/100\n",
            "12/12 [==============================] - 0s 3ms/step - loss: 0.1367 - accuracy: 0.9554 - val_loss: 0.1448 - val_accuracy: 0.9628\n",
            "Epoch 72/100\n",
            "12/12 [==============================] - 0s 3ms/step - loss: 0.1356 - accuracy: 0.9580 - val_loss: 0.1433 - val_accuracy: 0.9681\n",
            "Epoch 73/100\n",
            "12/12 [==============================] - 0s 3ms/step - loss: 0.1344 - accuracy: 0.9606 - val_loss: 0.1419 - val_accuracy: 0.9734\n",
            "Epoch 74/100\n",
            "12/12 [==============================] - 0s 3ms/step - loss: 0.1332 - accuracy: 0.9606 - val_loss: 0.1407 - val_accuracy: 0.9734\n",
            "Epoch 75/100\n",
            "12/12 [==============================] - 0s 3ms/step - loss: 0.1322 - accuracy: 0.9606 - val_loss: 0.1394 - val_accuracy: 0.9734\n",
            "Epoch 76/100\n",
            "12/12 [==============================] - 0s 3ms/step - loss: 0.1311 - accuracy: 0.9606 - val_loss: 0.1382 - val_accuracy: 0.9734\n",
            "Epoch 77/100\n",
            "12/12 [==============================] - 0s 3ms/step - loss: 0.1301 - accuracy: 0.9606 - val_loss: 0.1370 - val_accuracy: 0.9734\n",
            "Epoch 78/100\n",
            "12/12 [==============================] - 0s 3ms/step - loss: 0.1291 - accuracy: 0.9606 - val_loss: 0.1358 - val_accuracy: 0.9734\n",
            "Epoch 79/100\n",
            "12/12 [==============================] - 0s 2ms/step - loss: 0.1281 - accuracy: 0.9633 - val_loss: 0.1346 - val_accuracy: 0.9734\n",
            "Epoch 80/100\n",
            "12/12 [==============================] - 0s 3ms/step - loss: 0.1271 - accuracy: 0.9633 - val_loss: 0.1335 - val_accuracy: 0.9734\n",
            "Epoch 81/100\n",
            "12/12 [==============================] - 0s 4ms/step - loss: 0.1262 - accuracy: 0.9633 - val_loss: 0.1324 - val_accuracy: 0.9734\n",
            "Epoch 82/100\n",
            "12/12 [==============================] - 0s 3ms/step - loss: 0.1252 - accuracy: 0.9633 - val_loss: 0.1313 - val_accuracy: 0.9734\n",
            "Epoch 83/100\n",
            "12/12 [==============================] - 0s 3ms/step - loss: 0.1243 - accuracy: 0.9633 - val_loss: 0.1304 - val_accuracy: 0.9734\n",
            "Epoch 84/100\n",
            "12/12 [==============================] - 0s 3ms/step - loss: 0.1235 - accuracy: 0.9633 - val_loss: 0.1293 - val_accuracy: 0.9787\n",
            "Epoch 85/100\n",
            "12/12 [==============================] - 0s 3ms/step - loss: 0.1226 - accuracy: 0.9633 - val_loss: 0.1282 - val_accuracy: 0.9787\n",
            "Epoch 86/100\n",
            "12/12 [==============================] - 0s 3ms/step - loss: 0.1218 - accuracy: 0.9633 - val_loss: 0.1272 - val_accuracy: 0.9787\n",
            "Epoch 87/100\n",
            "12/12 [==============================] - 0s 3ms/step - loss: 0.1209 - accuracy: 0.9633 - val_loss: 0.1262 - val_accuracy: 0.9787\n",
            "Epoch 88/100\n",
            "12/12 [==============================] - 0s 3ms/step - loss: 0.1202 - accuracy: 0.9633 - val_loss: 0.1253 - val_accuracy: 0.9787\n",
            "Epoch 89/100\n",
            "12/12 [==============================] - 0s 3ms/step - loss: 0.1193 - accuracy: 0.9633 - val_loss: 0.1245 - val_accuracy: 0.9787\n",
            "Epoch 90/100\n",
            "12/12 [==============================] - 0s 3ms/step - loss: 0.1186 - accuracy: 0.9633 - val_loss: 0.1235 - val_accuracy: 0.9787\n",
            "Epoch 91/100\n",
            "12/12 [==============================] - 0s 3ms/step - loss: 0.1179 - accuracy: 0.9659 - val_loss: 0.1226 - val_accuracy: 0.9787\n",
            "Epoch 92/100\n",
            "12/12 [==============================] - 0s 4ms/step - loss: 0.1172 - accuracy: 0.9659 - val_loss: 0.1217 - val_accuracy: 0.9787\n",
            "Epoch 93/100\n",
            "12/12 [==============================] - 0s 3ms/step - loss: 0.1164 - accuracy: 0.9659 - val_loss: 0.1208 - val_accuracy: 0.9787\n",
            "Epoch 94/100\n",
            "12/12 [==============================] - 0s 3ms/step - loss: 0.1157 - accuracy: 0.9659 - val_loss: 0.1200 - val_accuracy: 0.9787\n",
            "Epoch 95/100\n",
            "12/12 [==============================] - 0s 3ms/step - loss: 0.1150 - accuracy: 0.9659 - val_loss: 0.1192 - val_accuracy: 0.9787\n",
            "Epoch 96/100\n",
            "12/12 [==============================] - 0s 4ms/step - loss: 0.1143 - accuracy: 0.9711 - val_loss: 0.1183 - val_accuracy: 0.9787\n",
            "Epoch 97/100\n",
            "12/12 [==============================] - 0s 3ms/step - loss: 0.1137 - accuracy: 0.9711 - val_loss: 0.1176 - val_accuracy: 0.9787\n",
            "Epoch 98/100\n",
            "12/12 [==============================] - 0s 3ms/step - loss: 0.1130 - accuracy: 0.9711 - val_loss: 0.1168 - val_accuracy: 0.9787\n",
            "Epoch 99/100\n",
            "12/12 [==============================] - 0s 3ms/step - loss: 0.1124 - accuracy: 0.9711 - val_loss: 0.1161 - val_accuracy: 0.9787\n",
            "Epoch 100/100\n",
            "12/12 [==============================] - 0s 3ms/step - loss: 0.1117 - accuracy: 0.9711 - val_loss: 0.1153 - val_accuracy: 0.9787\n"
          ],
          "name": "stdout"
        }
      ]
    },
    {
      "cell_type": "code",
      "metadata": {
        "id": "TscmepVZvpp7",
        "outputId": "d9e67233-dede-4129-86e0-78191fdd571a",
        "colab": {
          "base_uri": "https://localhost:8080/",
          "height": 498
        }
      },
      "source": [
        "training_accuracy = history.history['accuracy']\n",
        "validation_accuracy = history.history['val_accuracy']\n",
        "\n",
        "training_loss = history.history['loss']\n",
        "validation_loss = history.history['val_loss']\n",
        "\n",
        "epochs_range=range(EPOCHS)\n",
        "\n",
        "plt.figure(figsize=(8, 8))\n",
        "plt.subplot(1, 2, 1)\n",
        "plt.plot(epochs_range, training_accuracy, label='Training Accuracy')\n",
        "plt.plot(epochs_range, validation_accuracy, label='Validation Accuracy')\n",
        "\n",
        "plt.legend(loc='center right')\n",
        "plt.title('Training and Validation Accuracy')\n",
        "\n",
        "plt.subplot(1, 2, 2)\n",
        "plt.plot(epochs_range, training_loss, label='Training Loss')\n",
        "plt.plot(epochs_range, validation_loss, label='Validation Loss')\n",
        "plt.legend(loc='upper right')\n",
        "plt.title('Training and Validation Loss')\n",
        "plt.show()"
      ],
      "execution_count": 19,
      "outputs": [
        {
          "output_type": "display_data",
          "data": {
            "image/png": "[encoded data removed]",
            "text/plain": [
              "<Figure size 576x576 with 2 Axes>"
            ]
          },
          "metadata": {
            "tags": [],
            "image/png": {
              "width": 486,
              "height": 481
            },
            "needs_background": "light"
          }
        }
      ]
    },
    {
      "cell_type": "code",
      "metadata": {
        "id": "RTNppOUa0r9q"
      },
      "source": [
        "import pandas as pd"
      ],
      "execution_count": 20,
      "outputs": []
    },
    {
      "cell_type": "code",
      "metadata": {
        "id": "2F7lUqXLlWcj"
      },
      "source": [
        "pred = model.predict(X_train)"
      ],
      "execution_count": 21,
      "outputs": []
    },
    {
      "cell_type": "code",
      "metadata": {
        "id": "WroPXMlQlbbs",
        "outputId": "845ab43d-adcf-47a3-bd3d-57cca7f160ce",
        "colab": {
          "base_uri": "https://localhost:8080/",
          "height": 34
        }
      },
      "source": [
        "pred.shape, y_train.shape"
      ],
      "execution_count": 22,
      "outputs": [
        {
          "output_type": "execute_result",
          "data": {
            "text/plain": [
              "((381, 1), (381,))"
            ]
          },
          "metadata": {
            "tags": []
          },
          "execution_count": 22
        }
      ]
    },
    {
      "cell_type": "code",
      "metadata": {
        "id": "gfqJSpuj5VuQ",
        "outputId": "17a2f1c4-eb71-48f3-d430-8c3dacc91eb5",
        "colab": {
          "base_uri": "https://localhost:8080/",
          "height": 402
        }
      },
      "source": [
        "pd.DataFrame({'model':np.round(pred).reshape(381,), 'actual':y_train})"
      ],
      "execution_count": 28,
      "outputs": [
        {
          "output_type": "execute_result",
          "data": {
            "text/html": [
              "<div>\n",
              "<style scoped>\n",
              "    .dataframe tbody tr th:only-of-type {\n",
              "        vertical-align: middle;\n",
              "    }\n",
              "\n",
              "    .dataframe tbody tr th {\n",
              "        vertical-align: top;\n",
              "    }\n",
              "\n",
              "    .dataframe thead th {\n",
              "        text-align: right;\n",
              "    }\n",
              "</style>\n",
              "<table border=\"1\" class=\"dataframe\">\n",
              "  <thead>\n",
              "    <tr style=\"text-align: right;\">\n",
              "      <th></th>\n",
              "      <th>model</th>\n",
              "      <th>actual</th>\n",
              "    </tr>\n",
              "  </thead>\n",
              "  <tbody>\n",
              "    <tr>\n",
              "      <th>0</th>\n",
              "      <td>0.0</td>\n",
              "      <td>0</td>\n",
              "    </tr>\n",
              "    <tr>\n",
              "      <th>1</th>\n",
              "      <td>1.0</td>\n",
              "      <td>1</td>\n",
              "    </tr>\n",
              "    <tr>\n",
              "      <th>2</th>\n",
              "      <td>0.0</td>\n",
              "      <td>0</td>\n",
              "    </tr>\n",
              "    <tr>\n",
              "      <th>3</th>\n",
              "      <td>1.0</td>\n",
              "      <td>1</td>\n",
              "    </tr>\n",
              "    <tr>\n",
              "      <th>4</th>\n",
              "      <td>1.0</td>\n",
              "      <td>1</td>\n",
              "    </tr>\n",
              "    <tr>\n",
              "      <th>...</th>\n",
              "      <td>...</td>\n",
              "      <td>...</td>\n",
              "    </tr>\n",
              "    <tr>\n",
              "      <th>376</th>\n",
              "      <td>1.0</td>\n",
              "      <td>1</td>\n",
              "    </tr>\n",
              "    <tr>\n",
              "      <th>377</th>\n",
              "      <td>1.0</td>\n",
              "      <td>1</td>\n",
              "    </tr>\n",
              "    <tr>\n",
              "      <th>378</th>\n",
              "      <td>1.0</td>\n",
              "      <td>1</td>\n",
              "    </tr>\n",
              "    <tr>\n",
              "      <th>379</th>\n",
              "      <td>0.0</td>\n",
              "      <td>0</td>\n",
              "    </tr>\n",
              "    <tr>\n",
              "      <th>380</th>\n",
              "      <td>1.0</td>\n",
              "      <td>1</td>\n",
              "    </tr>\n",
              "  </tbody>\n",
              "</table>\n",
              "<p>381 rows × 2 columns</p>\n",
              "</div>"
            ],
            "text/plain": [
              "     model  actual\n",
              "0      0.0       0\n",
              "1      1.0       1\n",
              "2      0.0       0\n",
              "3      1.0       1\n",
              "4      1.0       1\n",
              "..     ...     ...\n",
              "376    1.0       1\n",
              "377    1.0       1\n",
              "378    1.0       1\n",
              "379    0.0       0\n",
              "380    1.0       1\n",
              "\n",
              "[381 rows x 2 columns]"
            ]
          },
          "metadata": {
            "tags": []
          },
          "execution_count": 28
        }
      ]
    },
    {
      "cell_type": "code",
      "metadata": {
        "id": "8Zj_1ynkYlsH",
        "outputId": "87911941-de21-46bb-de10-550b87927bee",
        "colab": {
          "base_uri": "https://localhost:8080/",
          "height": 87
        }
      },
      "source": [
        "# evaluate accuracy\n",
        "pred_test = np.round(model.predict(X_test))\n",
        "print('Manually calculated accuracy:', np.mean(pred_test.flatten() == y_test))\n",
        "print('Evaluate output:',model.evaluate(X_test, y_test))"
      ],
      "execution_count": 37,
      "outputs": [
        {
          "output_type": "stream",
          "text": [
            "Manually calculated accuracy: 0.9787234042553191\n",
            "6/6 [==============================] - 0s 2ms/step - loss: 0.1153 - accuracy: 0.9787\n",
            "Evaluate output: [0.11529529094696045, 0.978723406791687]\n"
          ],
          "name": "stdout"
        }
      ]
    },
    {
      "cell_type": "markdown",
      "metadata": {
        "id": "Mr_mAIrY8Rt3"
      },
      "source": [
        "### End of Document\n"
      ]
    }
  ]
}