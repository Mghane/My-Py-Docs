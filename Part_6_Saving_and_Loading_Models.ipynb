{
  "nbformat": 4,
  "nbformat_minor": 0,
  "metadata": {
    "accelerator": "GPU",
    "colab": {
      "name": "Part_6_Saving_and_Loading_Models.ipynb",
      "provenance": [],
      "collapsed_sections": [],
      "include_colab_link": true
    },
    "kernelspec": {
      "display_name": "Python 3",
      "language": "python",
      "name": "python3"
    },
    "language_info": {
      "codemirror_mode": {
        "name": "ipython",
        "version": 3
      },
      "file_extension": ".py",
      "mimetype": "text/x-python",
      "name": "python",
      "nbconvert_exporter": "python",
      "pygments_lexer": "ipython3",
      "version": "3.6.8"
    }
  },
  "cells": [
    {
      "cell_type": "markdown",
      "metadata": {
        "id": "view-in-github",
        "colab_type": "text"
      },
      "source": [
        "<a href=\"https://colab.research.google.com/github/Mghane/My-Py-Docs/blob/master/Part_6_Saving_and_Loading_Models.ipynb\" target=\"_parent\"><img src=\"https://colab.research.google.com/assets/colab-badge.svg\" alt=\"Open In Colab\"/></a>"
      ]
    },
    {
      "cell_type": "markdown",
      "metadata": {
        "colab_type": "text",
        "id": "k7sePAkWpLJV"
      },
      "source": [
        "# Saving and Loading Models\n",
        "\n",
        "In this notebook, we'll see how to save and load models with TensorFlow. This is important because you'll often want to load previously trained models to use in making predictions or to continue training on new data.\n",
        "Being able to re-use trained models is of course a key part of deep learning. Let's look at a few methods of saving and loading models, including HDF5 with Keras, TensorFlow Saved Models, and by using the ModelCheckpoint callback."
      ]
    },
    {
      "cell_type": "markdown",
      "metadata": {
        "colab_type": "text",
        "id": "tD856SqhH4JK"
      },
      "source": [
        "## Import Resources"
      ]
    },
    {
      "cell_type": "code",
      "metadata": {
        "id": "xoqy4maVNcNW",
        "colab_type": "code",
        "colab": {}
      },
      "source": [
        "import warnings\n",
        "warnings.filterwarnings('ignore')"
      ],
      "execution_count": 0,
      "outputs": []
    },
    {
      "cell_type": "code",
      "metadata": {
        "colab_type": "code",
        "id": "Hsu5egUUqPg9",
        "colab": {}
      },
      "source": [
        "%matplotlib inline\n",
        "%config InlineBackend.figure_format = 'retina'\n",
        "\n",
        "import time\n",
        "import numpy as np\n",
        "import matplotlib.pyplot as plt\n",
        "\n",
        "import tensorflow as tf\n",
        "import tensorflow_datasets as tfds\n",
        "tfds.disable_progress_bar()"
      ],
      "execution_count": 0,
      "outputs": []
    },
    {
      "cell_type": "code",
      "metadata": {
        "id": "H-4Ca9SeNcNg",
        "colab_type": "code",
        "colab": {}
      },
      "source": [
        "import logging\n",
        "logger = tf.get_logger()\n",
        "logger.setLevel(logging.ERROR)"
      ],
      "execution_count": 0,
      "outputs": []
    },
    {
      "cell_type": "code",
      "metadata": {
        "colab_type": "code",
        "id": "BqsrWYDKp4Fd",
        "outputId": "b0d7d417-aae1-4c66-c51c-c29d46a60014",
        "colab": {
          "base_uri": "https://localhost:8080/",
          "height": 85
        }
      },
      "source": [
        "print('Using:')\n",
        "print('\\t\\u2022 TensorFlow version:', tf.__version__)\n",
        "print('\\t\\u2022 tf.keras version:', tf.keras.__version__)\n",
        "print('\\t\\u2022 Running on GPU' if tf.test.is_gpu_available() else '\\t\\u2022 GPU device not found. Running on CPU')"
      ],
      "execution_count": 4,
      "outputs": [
        {
          "output_type": "stream",
          "text": [
            "Using:\n",
            "\t• TensorFlow version: 2.2.0\n",
            "\t• tf.keras version: 2.3.0-tf\n",
            "\t• Running on GPU\n"
          ],
          "name": "stdout"
        }
      ]
    },
    {
      "cell_type": "markdown",
      "metadata": {
        "colab_type": "text",
        "id": "dAe81nXoICzC"
      },
      "source": [
        "## Load the Dataset"
      ]
    },
    {
      "cell_type": "code",
      "metadata": {
        "colab_type": "code",
        "id": "bxcg_ZbuLnM3",
        "colab": {}
      },
      "source": [
        "train_split = 60\n",
        "test_val_split = 20\n",
        "\n",
        "splits = ['train[:83%]', 'test', 'train[83%:]']\n",
        "\n",
        "dataset, dataset_info = tfds.load('fashion_mnist', split=splits, as_supervised=True, with_info=True)\n",
        "\n",
        "training_set, validation_set, test_set = dataset"
      ],
      "execution_count": 0,
      "outputs": []
    },
    {
      "cell_type": "markdown",
      "metadata": {
        "colab_type": "text",
        "id": "z1WhOLC7Ii3D"
      },
      "source": [
        "## Explore the Dataset"
      ]
    },
    {
      "cell_type": "code",
      "metadata": {
        "colab_type": "code",
        "id": "9i2586KjI4QM",
        "outputId": "68a07532-f38c-4702-f850-4e7ea7e4f108",
        "colab": {
          "base_uri": "https://localhost:8080/",
          "height": 68
        }
      },
      "source": [
        "total_examples = dataset_info.splits['train'].num_examples + dataset_info.splits['test'].num_examples\n",
        "\n",
        "num_training_examples = (total_examples * train_split) // 100\n",
        "num_validation_examples = (total_examples * test_val_split) // 100\n",
        "num_test_examples = num_validation_examples\n",
        "\n",
        "print('There are {:,} images in the training set'.format(num_training_examples))\n",
        "print('There are {:,} images in the validation set'.format(num_validation_examples))\n",
        "print('There are {:,} images in the test set'.format(num_test_examples))"
      ],
      "execution_count": 9,
      "outputs": [
        {
          "output_type": "stream",
          "text": [
            "There are 42,000 images in the training set\n",
            "There are 14,000 images in the validation set\n",
            "There are 14,000 images in the test set\n"
          ],
          "name": "stdout"
        }
      ]
    },
    {
      "cell_type": "code",
      "metadata": {
        "colab_type": "code",
        "id": "RLMJCpppq43U",
        "colab": {}
      },
      "source": [
        "class_names = ['T-shirt/top', 'Trouser', 'Pullover', 'Dress', 'Coat', \n",
        "               'Sandal',      'Shirt',   'Sneaker',  'Bag',   'Ankle boot']"
      ],
      "execution_count": 0,
      "outputs": []
    },
    {
      "cell_type": "code",
      "metadata": {
        "colab_type": "code",
        "id": "PeU9nb_xqW98",
        "outputId": "edb72400-37be-4b20-df23-7cb1d8e1f0e0",
        "colab": {
          "base_uri": "https://localhost:8080/",
          "height": 280
        }
      },
      "source": [
        "for image, label in training_set.take(1):\n",
        "    image = image.numpy().squeeze()\n",
        "    label = label.numpy()\n",
        "\n",
        "plt.imshow(image, cmap=plt.cm.binary)\n",
        "plt.title(class_names[label])\n",
        "plt.colorbar()\n",
        "plt.show()"
      ],
      "execution_count": 11,
      "outputs": [
        {
          "output_type": "display_data",
          "data": {
            "image/png": "[encoded data removed]",
            "text/plain": [
              "<Figure size 432x288 with 2 Axes>"
            ]
          },
          "metadata": {
            "tags": [],
            "image/png": {
              "width": 305,
              "height": 263
            },
            "needs_background": "light"
          }
        }
      ]
    },
    {
      "cell_type": "markdown",
      "metadata": {
        "colab_type": "text",
        "id": "k5rUDqxBIt5N"
      },
      "source": [
        "## Create Pipeline"
      ]
    },
    {
      "cell_type": "code",
      "metadata": {
        "colab_type": "code",
        "id": "Ec3uphcyci3c",
        "colab": {}
      },
      "source": [
        "def normalize(image, label):\n",
        "    image = tf.cast(image, tf.float32)\n",
        "    image /= 255\n",
        "    return image, label\n",
        "\n",
        "batch_size = 64\n",
        "\n",
        "training_batches = training_set.cache().shuffle(num_training_examples//4).batch(batch_size).map(normalize).prefetch(1)\n",
        "validation_batches = validation_set.cache().batch(batch_size).map(normalize).prefetch(1)\n",
        "testing_batches = test_set.cache().batch(batch_size).map(normalize).prefetch(1)"
      ],
      "execution_count": 0,
      "outputs": []
    },
    {
      "cell_type": "markdown",
      "metadata": {
        "colab_type": "text",
        "id": "ySQuJ-iPqNoR"
      },
      "source": [
        "## Build and Train the Model\n",
        "\n",
        "Here we'll build and compile our model as usual."
      ]
    },
    {
      "cell_type": "code",
      "metadata": {
        "colab_type": "code",
        "id": "47Vnu0KJMqwc",
        "outputId": "acb33238-8d49-4882-efec-5a01d7984d0f",
        "colab": {
          "base_uri": "https://localhost:8080/",
          "height": 425
        }
      },
      "source": [
        "layer_neurons = [512, 256, 128]\n",
        "\n",
        "dropout_rate = 0.5\n",
        "\n",
        "model = tf.keras.Sequential()\n",
        "\n",
        "model.add(tf.keras.layers.Flatten(input_shape=(28,28,1)))\n",
        "\n",
        "for neurons in layer_neurons:\n",
        "    model.add(tf.keras.layers.Dense(neurons, activation = 'relu'))\n",
        "    model.add(tf.keras.layers.Dropout(dropout_rate))\n",
        "\n",
        "model.add(tf.keras.layers.Dense(10, activation = 'softmax'))\n",
        "\n",
        "model.summary()"
      ],
      "execution_count": 13,
      "outputs": [
        {
          "output_type": "stream",
          "text": [
            "Model: \"sequential\"\n",
            "_________________________________________________________________\n",
            "Layer (type)                 Output Shape              Param #   \n",
            "=================================================================\n",
            "flatten (Flatten)            (None, 784)               0         \n",
            "_________________________________________________________________\n",
            "dense (Dense)                (None, 512)               401920    \n",
            "_________________________________________________________________\n",
            "dropout (Dropout)            (None, 512)               0         \n",
            "_________________________________________________________________\n",
            "dense_1 (Dense)              (None, 256)               131328    \n",
            "_________________________________________________________________\n",
            "dropout_1 (Dropout)          (None, 256)               0         \n",
            "_________________________________________________________________\n",
            "dense_2 (Dense)              (None, 128)               32896     \n",
            "_________________________________________________________________\n",
            "dropout_2 (Dropout)          (None, 128)               0         \n",
            "_________________________________________________________________\n",
            "dense_3 (Dense)              (None, 10)                1290      \n",
            "=================================================================\n",
            "Total params: 567,434\n",
            "Trainable params: 567,434\n",
            "Non-trainable params: 0\n",
            "_________________________________________________________________\n"
          ],
          "name": "stdout"
        }
      ]
    },
    {
      "cell_type": "code",
      "metadata": {
        "colab_type": "code",
        "id": "1qLJ-cAwnmFD",
        "outputId": "192a23db-575a-44b7-86b3-557a7a631880",
        "colab": {
          "base_uri": "https://localhost:8080/",
          "height": 173
        }
      },
      "source": [
        "model.compile(optimizer='adam',\n",
        "              loss='sparse_categorical_crossentropy',\n",
        "              metrics=['accuracy'])\n",
        "\n",
        "EPOCHS = 4\n",
        "\n",
        "history = model.fit(training_batches,\n",
        "                    epochs=EPOCHS,\n",
        "                    validation_data=validation_batches)"
      ],
      "execution_count": 14,
      "outputs": [
        {
          "output_type": "stream",
          "text": [
            "Epoch 1/4\n",
            "779/779 [==============================] - 10s 13ms/step - loss: 0.8097 - accuracy: 0.7077 - val_loss: 0.4862 - val_accuracy: 0.8206\n",
            "Epoch 2/4\n",
            "779/779 [==============================] - 3s 4ms/step - loss: 0.5496 - accuracy: 0.8076 - val_loss: 0.4397 - val_accuracy: 0.8366\n",
            "Epoch 3/4\n",
            "779/779 [==============================] - 3s 4ms/step - loss: 0.5021 - accuracy: 0.8221 - val_loss: 0.4258 - val_accuracy: 0.8449\n",
            "Epoch 4/4\n",
            "779/779 [==============================] - 3s 4ms/step - loss: 0.4753 - accuracy: 0.8364 - val_loss: 0.4116 - val_accuracy: 0.8441\n"
          ],
          "name": "stdout"
        }
      ]
    },
    {
      "cell_type": "markdown",
      "metadata": {
        "colab_type": "text",
        "id": "jseIvfe2xb56"
      },
      "source": [
        "## Saving and Loading Models\n",
        "\n",
        "In TensorFlow we can save our trained models in different formats. Here we will see how to save our models in TensorFlow's SavedModel format and as HDF5 files, which is the format used by Keras models.\n",
        "\n",
        "### Saving and Loading Models in HDF5 Format\n",
        "\n",
        "To save our models in the format used by Keras models we use the `.save(filepath)` method. For example, to save a model called `my_model` in the current working directory with the name `test_model` we use:\n",
        "\n",
        "```python\n",
        "my_model.save('./test_model.h5')\n",
        "```\n",
        "\n",
        "It's important to note that we have to provide the `.h5` extension to the `filepath` in order the tell `tf.keras` to save our model as an HDF5 file. \n",
        "\n",
        "The above command saves our model into a single HDF5 file that will contain:\n",
        "\n",
        "* The model's architecture.\n",
        "* The model's weight values which were learned during training.\n",
        "* The model's training configuration, which corresponds to the parameters you passed to the `compile` method.\n",
        "* The optimizer and its state. This allows you to resume training exactly where you left off.\n",
        "\n",
        "\n",
        "In the cell below we save our trained `model` as an HDF5 file. The name of our HDF5 will correspond to the current time stamp. This is useful if you are saving many models and want each of them to have a unique name. By default the `.save()` method will **silently** overwrite any existing file at the target location with the same name. If we want `tf.keras` to provide us with a manual prompt to whether overwrite files with the same name, you can set the argument `overwrite=False` in the `.save()` method."
      ]
    },
    {
      "cell_type": "code",
      "metadata": {
        "colab_type": "code",
        "id": "G1dOvNRvrhNa",
        "colab": {}
      },
      "source": [
        "t = time.time() ## To differentiate between different models saved at different times and avoid overwritting an exisiting model\n",
        "\n",
        "saved_keras_model_filepath = './{}.h5'.format(int(t))\n",
        "\n",
        "model.save(saved_keras_model_filepath)"
      ],
      "execution_count": 0,
      "outputs": []
    },
    {
      "cell_type": "code",
      "metadata": {
        "id": "d4QctUdfRPT3",
        "colab_type": "code",
        "colab": {
          "base_uri": "https://localhost:8080/",
          "height": 34
        },
        "outputId": "8edc084d-c121-4aa2-b126-3bfd2bf9b701"
      },
      "source": [
        "saved_keras_model_filepath"
      ],
      "execution_count": 17,
      "outputs": [
        {
          "output_type": "execute_result",
          "data": {
            "text/plain": [
              "'./1591809820.h5'"
            ]
          },
          "metadata": {
            "tags": []
          },
          "execution_count": 17
        }
      ]
    },
    {
      "cell_type": "markdown",
      "metadata": {
        "colab_type": "text",
        "id": "lGNRBb1puSRg"
      },
      "source": [
        "Once a model has been saved, we can use `tf.keras.models.load_model(filepath)` to re-load our model. This command will also compile our model automatically using the saved training configuration, unless the model was never compiled in the first place."
      ]
    },
    {
      "cell_type": "code",
      "metadata": {
        "colab_type": "code",
        "id": "akaAVE2js5d0",
        "outputId": "f5628182-c85d-40bf-d29b-750bc9b75453",
        "colab": {
          "base_uri": "https://localhost:8080/",
          "height": 425
        }
      },
      "source": [
        "reloaded_keras_model = tf.keras.models.load_model(saved_keras_model_filepath)\n",
        "\n",
        "reloaded_keras_model.summary()"
      ],
      "execution_count": 16,
      "outputs": [
        {
          "output_type": "stream",
          "text": [
            "Model: \"sequential\"\n",
            "_________________________________________________________________\n",
            "Layer (type)                 Output Shape              Param #   \n",
            "=================================================================\n",
            "flatten (Flatten)            (None, 784)               0         \n",
            "_________________________________________________________________\n",
            "dense (Dense)                (None, 512)               401920    \n",
            "_________________________________________________________________\n",
            "dropout (Dropout)            (None, 512)               0         \n",
            "_________________________________________________________________\n",
            "dense_1 (Dense)              (None, 256)               131328    \n",
            "_________________________________________________________________\n",
            "dropout_1 (Dropout)          (None, 256)               0         \n",
            "_________________________________________________________________\n",
            "dense_2 (Dense)              (None, 128)               32896     \n",
            "_________________________________________________________________\n",
            "dropout_2 (Dropout)          (None, 128)               0         \n",
            "_________________________________________________________________\n",
            "dense_3 (Dense)              (None, 10)                1290      \n",
            "=================================================================\n",
            "Total params: 567,434\n",
            "Trainable params: 567,434\n",
            "Non-trainable params: 0\n",
            "_________________________________________________________________\n"
          ],
          "name": "stdout"
        }
      ]
    },
    {
      "cell_type": "markdown",
      "metadata": {
        "colab_type": "text",
        "id": "xWihP1oMjNeF"
      },
      "source": [
        "As we can see the re-loaded model has the same architecture as our original model, as it should be. At this point, since we haven't done anything new to the re-loaded model, then both the `reloaded_keras_model` our original `model` should be identical copies. Therefore, they should make the same predictions on the same images. Let's check that this is true:"
      ]
    },
    {
      "cell_type": "code",
      "metadata": {
        "colab_type": "code",
        "id": "gLQsw7QVkElc",
        "outputId": "56629642-2c5a-4a78-be9c-18fd558e23aa",
        "colab": {
          "base_uri": "https://localhost:8080/",
          "height": 34
        }
      },
      "source": [
        "for image_batch, label_batch in testing_batches.take(1):\n",
        "    prediction_1 = model.predict(image_batch)\n",
        "    prediction_2 = reloaded_keras_model.predict(image_batch)\n",
        "    difference = np.abs(prediction_1 - prediction_2)\n",
        "    print(difference.max())"
      ],
      "execution_count": 18,
      "outputs": [
        {
          "output_type": "stream",
          "text": [
            "0.0\n"
          ],
          "name": "stdout"
        }
      ]
    },
    {
      "cell_type": "markdown",
      "metadata": {
        "colab_type": "text",
        "id": "K-dDOY0BmYhs"
      },
      "source": [
        "As we can see, the result is 0.0, which indicates that both models made the same predictions on the same images."
      ]
    },
    {
      "cell_type": "markdown",
      "metadata": {
        "colab_type": "text",
        "id": "lxHdz18pQUNV"
      },
      "source": [
        "### Saving and Loading TensorFlow SavedModels"
      ]
    },
    {
      "cell_type": "markdown",
      "metadata": {
        "colab_type": "text",
        "id": "OGtK83g2vVki"
      },
      "source": [
        "To export our models to the TensorFlow **SavedModel** format, we use the `tf.saved_model.save(model, export_dir)` function. For example, to save a model called `my_model` in a folder called `saved_models` located in the current working directory we use:\n",
        "\n",
        "```python\n",
        "tf.saved_model.save(my_model, './saved_models')\n",
        "```\n",
        "\n",
        "It's important to note that here we have to provide the path to the directory where we want to save our model, **NOT** the name of the file. This is because SavedModels are not saved in a single file. Rather, when you save your model as a SavedModel, `the tf.saved_model.save()` function will create an `assets` folder, a `variables` folder, and a `saved_model.pb` file inside the directory you provided.\n",
        "\n",
        "The SavedModel files that are created contain:\n",
        "\n",
        "* A TensorFlow checkpoint containing the model weights.\n",
        "* A SavedModel proto containing the underlying TensorFlow graph. Separate graphs are saved for prediction (serving), training, and evaluation. If the model wasn't compiled before, then only the inference graph gets exported.\n",
        "* The model's architecture configuration if available.\n",
        "\n",
        "The SavedModel is a standalone serialization format for TensorFlow objects, supported by TensorFlow serving as well as TensorFlow implementations other than Python. **It does not require the original model building code to run, which makes it useful for sharing or deploying in different platforms, such as mobile and embedded devices (with TensorFlow Lite), servers (with TensorFlow Serving), and even web browsers (with TensorFlow.js).**\n",
        "\n",
        "In the cell below we save our trained model as a SavedModel. The name of the folder where we are going to save our model will correspond to the current time stamp. Again, this is useful if you are saving many models and want each of them to be saved in a unique directory."
      ]
    },
    {
      "cell_type": "code",
      "metadata": {
        "colab_type": "code",
        "collapsed": true,
        "id": "V2C0F3luxzlI",
        "colab": {}
      },
      "source": [
        "t = time.time()\n",
        "\n",
        "savedModel_directory = './{}'.format(int(t))\n",
        "\n",
        "tf.saved_model.save(model, savedModel_directory)"
      ],
      "execution_count": 0,
      "outputs": []
    },
    {
      "cell_type": "markdown",
      "metadata": {
        "colab_type": "text",
        "id": "DBY1j0QEyjPi"
      },
      "source": [
        "Once a model has been saved as a SavedModel, we can use `tf.saved_model.load(export_dir)` to re-load our model. "
      ]
    },
    {
      "cell_type": "code",
      "metadata": {
        "colab_type": "code",
        "id": "rRx2y2M4AtKl",
        "colab": {}
      },
      "source": [
        "reloaded_SavedModel = tf.saved_model.load(savedModel_directory)"
      ],
      "execution_count": 0,
      "outputs": []
    },
    {
      "cell_type": "markdown",
      "metadata": {
        "colab_type": "text",
        "id": "wJwmzT1gAwew"
      },
      "source": [
        "It's important to note that the object returned by `tf.saved_model.load` is **NOT** a Keras object. Therefore, it doesn't have `.fit`, `.predict`, `.summary`, etc. methods. It is 100% independent of the code that created it. This means that in order to make predictions with our `reloaded_SavedModel` we need to use a different method than the one used with the re-loaded Keras model.\n",
        "\n",
        "To make predictions on a batch of images with a re-loaded SavedModel we have to use:\n",
        "\n",
        "```python\n",
        "reloaded_SavedModel(image_batch, training=False)\n",
        "```\n",
        "\n",
        "This will return a tensor with the predicted label probabilities for each image in the batch. Again, since we haven't done anything new to this re-loaded SavedModel, then both the `reloaded_SavedModel` and our original `model` should be identical copies. Therefore, they should make the same predictions on the same images. Let's check that this is true:"
      ]
    },
    {
      "cell_type": "code",
      "metadata": {
        "colab_type": "code",
        "id": "ozMqD1ZoER5g",
        "outputId": "1bf737ff-f72a-4d8c-cd07-7b6e1b6c7cfa",
        "colab": {
          "base_uri": "https://localhost:8080/",
          "height": 34
        }
      },
      "source": [
        "for image_batch, label_batch in testing_batches.take(1):\n",
        "    prediction_1 = model.predict(image_batch)\n",
        "    prediction_2 = reloaded_SavedModel(image_batch, training=False).numpy()\n",
        "    difference = np.abs(prediction_1 - prediction_2)\n",
        "    print(difference.max())"
      ],
      "execution_count": 21,
      "outputs": [
        {
          "output_type": "stream",
          "text": [
            "0.0\n"
          ],
          "name": "stdout"
        }
      ]
    },
    {
      "cell_type": "markdown",
      "metadata": {
        "colab_type": "text",
        "id": "3QZNNPkYFH3D"
      },
      "source": [
        "We can also get back a full Keras model, from a TensorFlow SavedModel, by loading our SavedModel with the `tf.keras.models.load_model` function. "
      ]
    },
    {
      "cell_type": "code",
      "metadata": {
        "colab_type": "code",
        "collapsed": true,
        "id": "0BxFJcGLyMTD",
        "outputId": "cdfc24dc-04cd-482a-c359-b291c172f235",
        "colab": {
          "base_uri": "https://localhost:8080/",
          "height": 425
        }
      },
      "source": [
        "reloaded_keras_model_from_SavedModel = tf.keras.models.load_model(savedModel_directory)\n",
        "\n",
        "reloaded_keras_model_from_SavedModel.summary()"
      ],
      "execution_count": 22,
      "outputs": [
        {
          "output_type": "stream",
          "text": [
            "Model: \"sequential\"\n",
            "_________________________________________________________________\n",
            "Layer (type)                 Output Shape              Param #   \n",
            "=================================================================\n",
            "flatten (Flatten)            (None, 784)               0         \n",
            "_________________________________________________________________\n",
            "dense (Dense)                (None, 512)               401920    \n",
            "_________________________________________________________________\n",
            "dropout (Dropout)            (None, 512)               0         \n",
            "_________________________________________________________________\n",
            "dense_1 (Dense)              (None, 256)               131328    \n",
            "_________________________________________________________________\n",
            "dropout_1 (Dropout)          (None, 256)               0         \n",
            "_________________________________________________________________\n",
            "dense_2 (Dense)              (None, 128)               32896     \n",
            "_________________________________________________________________\n",
            "dropout_2 (Dropout)          (None, 128)               0         \n",
            "_________________________________________________________________\n",
            "dense_3 (Dense)              (None, 10)                1290      \n",
            "=================================================================\n",
            "Total params: 567,434\n",
            "Trainable params: 567,434\n",
            "Non-trainable params: 0\n",
            "_________________________________________________________________\n"
          ],
          "name": "stdout"
        }
      ]
    },
    {
      "cell_type": "markdown",
      "metadata": {
        "colab_type": "text",
        "id": "FomAlrxnQnm8"
      },
      "source": [
        "## Saving Models During Training\n",
        "\n",
        "We have seen that when we train a model with a validation set, the value of the validation loss changes through the training process. Since the value of the validation loss is an indicator of how well our model will generalize to new data, it will be great if could save our model at each step of the training process and then only keep the version with the lowest validation loss. \n",
        "\n",
        "We can do this in `tf.keras` by using the following callback:\n",
        "\n",
        "```python\n",
        "tf.keras.callbacks.ModelCheckpoint('./best_model.h5', monitor='val_loss', save_best_only=True)\n",
        "```\n",
        "This callback will save the model as a Keras HDF5 file after every epoch. With the `save_best_only=True` argument, this callback will first check the validation loss of the latest model against the one previously saved. The callback will only save the latest model and overwrite the old one, if the latest model has a lower validation loss than the one previously saved. This will guarantee that will end up with the version of the model that achieved the lowest validation loss during training."
      ]
    },
    {
      "cell_type": "code",
      "metadata": {
        "colab_type": "code",
        "id": "vvsuAeUQ1WKR",
        "outputId": "513ecdaa-7c85-4136-caa9-31177e07bf50",
        "colab": {
          "base_uri": "https://localhost:8080/",
          "height": 649
        }
      },
      "source": [
        "model = tf.keras.Sequential([\n",
        "        tf.keras.layers.Flatten(input_shape=(28,28,1)),\n",
        "        tf.keras.layers.Dense(256, activation = 'relu'),\n",
        "        tf.keras.layers.Dense(128, activation = 'relu'),\n",
        "        tf.keras.layers.Dense(64, activation = 'relu'),\n",
        "        tf.keras.layers.Dense(10, activation = 'softmax')\n",
        "])\n",
        "\n",
        "model.compile(optimizer='adam',\n",
        "              loss='sparse_categorical_crossentropy',\n",
        "              metrics=['accuracy'])\n",
        "\n",
        "# Stop training when there is no improvement in the validation loss for 10 consecutive epochs\n",
        "early_stopping = tf.keras.callbacks.EarlyStopping(monitor='val_loss', patience=10)\n",
        "\n",
        "# Save the Model with the lowest validation loss\n",
        "save_best = tf.keras.callbacks.ModelCheckpoint('./best_model.h5',\n",
        "                                               monitor='val_loss',\n",
        "                                               save_best_only=True)\n",
        "\n",
        "history = model.fit(training_batches,\n",
        "                    epochs = 100,\n",
        "                    validation_data=validation_batches,\n",
        "                    callbacks=[early_stopping, save_best])"
      ],
      "execution_count": 23,
      "outputs": [
        {
          "output_type": "stream",
          "text": [
            "Epoch 1/100\n",
            "779/779 [==============================] - 3s 4ms/step - loss: 0.5237 - accuracy: 0.8145 - val_loss: 0.4595 - val_accuracy: 0.8367\n",
            "Epoch 2/100\n",
            "779/779 [==============================] - 3s 4ms/step - loss: 0.3749 - accuracy: 0.8645 - val_loss: 0.3789 - val_accuracy: 0.8631\n",
            "Epoch 3/100\n",
            "779/779 [==============================] - 3s 4ms/step - loss: 0.3339 - accuracy: 0.8773 - val_loss: 0.3620 - val_accuracy: 0.8696\n",
            "Epoch 4/100\n",
            "779/779 [==============================] - 3s 4ms/step - loss: 0.3122 - accuracy: 0.8850 - val_loss: 0.3846 - val_accuracy: 0.8648\n",
            "Epoch 5/100\n",
            "779/779 [==============================] - 3s 4ms/step - loss: 0.2983 - accuracy: 0.8889 - val_loss: 0.3584 - val_accuracy: 0.8698\n",
            "Epoch 6/100\n",
            "779/779 [==============================] - 3s 4ms/step - loss: 0.2801 - accuracy: 0.8956 - val_loss: 0.3589 - val_accuracy: 0.8727\n",
            "Epoch 7/100\n",
            "779/779 [==============================] - 3s 4ms/step - loss: 0.2645 - accuracy: 0.9007 - val_loss: 0.3479 - val_accuracy: 0.8819\n",
            "Epoch 8/100\n",
            "779/779 [==============================] - 3s 4ms/step - loss: 0.2563 - accuracy: 0.9035 - val_loss: 0.3358 - val_accuracy: 0.8845\n",
            "Epoch 9/100\n",
            "779/779 [==============================] - 3s 4ms/step - loss: 0.2436 - accuracy: 0.9098 - val_loss: 0.3426 - val_accuracy: 0.8807\n",
            "Epoch 10/100\n",
            "779/779 [==============================] - 3s 4ms/step - loss: 0.2357 - accuracy: 0.9114 - val_loss: 0.3393 - val_accuracy: 0.8858\n",
            "Epoch 11/100\n",
            "779/779 [==============================] - 3s 4ms/step - loss: 0.2265 - accuracy: 0.9140 - val_loss: 0.3523 - val_accuracy: 0.8831\n",
            "Epoch 12/100\n",
            "779/779 [==============================] - 3s 4ms/step - loss: 0.2189 - accuracy: 0.9166 - val_loss: 0.3516 - val_accuracy: 0.8869\n",
            "Epoch 13/100\n",
            "779/779 [==============================] - 3s 4ms/step - loss: 0.2096 - accuracy: 0.9187 - val_loss: 0.3438 - val_accuracy: 0.8882\n",
            "Epoch 14/100\n",
            "779/779 [==============================] - 3s 4ms/step - loss: 0.2020 - accuracy: 0.9234 - val_loss: 0.3564 - val_accuracy: 0.8840\n",
            "Epoch 15/100\n",
            "779/779 [==============================] - 3s 4ms/step - loss: 0.2001 - accuracy: 0.9228 - val_loss: 0.3604 - val_accuracy: 0.8801\n",
            "Epoch 16/100\n",
            "779/779 [==============================] - 3s 4ms/step - loss: 0.1873 - accuracy: 0.9284 - val_loss: 0.3536 - val_accuracy: 0.8877\n",
            "Epoch 17/100\n",
            "779/779 [==============================] - 3s 4ms/step - loss: 0.1824 - accuracy: 0.9297 - val_loss: 0.3896 - val_accuracy: 0.8744\n",
            "Epoch 18/100\n",
            "779/779 [==============================] - 3s 4ms/step - loss: 0.1775 - accuracy: 0.9317 - val_loss: 0.3558 - val_accuracy: 0.8893\n"
          ],
          "name": "stdout"
        }
      ]
    },
    {
      "cell_type": "markdown",
      "metadata": {
        "id": "Ml5IkV0YVrJT",
        "colab_type": "text"
      },
      "source": [
        "### End of Document"
      ]
    }
  ]
}